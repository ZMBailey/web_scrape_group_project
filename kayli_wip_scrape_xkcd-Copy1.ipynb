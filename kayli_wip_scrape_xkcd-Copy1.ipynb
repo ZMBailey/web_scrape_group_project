{
 "cells": [
  {
   "cell_type": "code",
   "execution_count": 1,
   "metadata": {},
   "outputs": [],
   "source": [
    "%load_ext autoreload\n",
    "%autoreload 2"
   ]
  },
  {
   "cell_type": "code",
   "execution_count": 2,
   "metadata": {},
   "outputs": [],
   "source": [
    "import requests\n",
    "import random\n",
    "import time\n",
    "from selenium.webdriver import Firefox\n",
    "# from scrape_functions import (\n",
    "#     get_comic_title,\n",
    "#     find_image,\n",
    "#     scrape_image,\n",
    "#     get_prev)"
   ]
  },
  {
   "cell_type": "code",
   "execution_count": 48,
   "metadata": {},
   "outputs": [],
   "source": [
    "browser = Firefox()\n",
    "url = \"https://www.rottentomatoes.com/browse/in-theaters?minTomato=0&maxTomato=100&minPopcorn=0&maxPopcorn=100&genres=1;2;4;5;6;8;9;10;11;13;18;14&sortBy=popularity\"\n",
    "browser.get(url)"
   ]
  },
  {
   "cell_type": "code",
   "execution_count": null,
   "metadata": {},
   "outputs": [],
   "source": [
    "#click show more"
   ]
  },
  {
   "cell_type": "code",
   "execution_count": 138,
   "metadata": {},
   "outputs": [],
   "source": [
    "def get_movie_info(browser):\n",
    "    \"\"\"Return movie\"\"\"\n",
    "    sel = \"div.mb-movies div.mb-movie\"\n",
    "    movies = browser.find_elements_by_css_selector(sel)\n",
    "    return movies.text"
   ]
  },
  {
   "cell_type": "code",
   "execution_count": 139,
   "metadata": {},
   "outputs": [
    {
     "data": {
      "text/plain": [
       "\"The Curse Of La Llorona\\n 32% 50%\\nLinda Cardellini, Raymond Cruz\\nCritic Consensus:\\nContent to coast on jump scares rather than tap into its story's creepy potential, The Curse of La Llorona arrives in theaters already broken.\\nR, 1 hr. 33 min.\\nIn Theaters Apr 19\""
      ]
     },
     "execution_count": 139,
     "metadata": {},
     "output_type": "execute_result"
    }
   ],
   "source": [
    "movies = get_movie(browser)\n",
    "movies"
   ]
  },
  {
   "cell_type": "code",
   "execution_count": 140,
   "metadata": {},
   "outputs": [],
   "source": [
    "def get_movie_title(browser):\n",
    "    \"\"\"Return movie title\"\"\"\n",
    "    sel = \"div.mb-movies div.mb-movie h3.movieTitle\"\n",
    "    movies = browser.find_elements_by_css_selector(sel)\n",
    "    return movies"
   ]
  },
  {
   "cell_type": "code",
   "execution_count": 141,
   "metadata": {},
   "outputs": [],
   "source": [
    "all_movies = get_movie_title(browser)"
   ]
  },
  {
   "cell_type": "code",
   "execution_count": 142,
   "metadata": {},
   "outputs": [],
   "source": [
    "titles = []\n",
    "for movie in all_movies:\n",
    "    titles.append(movie.text)"
   ]
  },
  {
   "cell_type": "code",
   "execution_count": 143,
   "metadata": {},
   "outputs": [
    {
     "data": {
      "text/plain": [
       "['The Curse Of La Llorona',\n",
       " 'Shazam!',\n",
       " 'Breakthrough',\n",
       " 'Captain Marvel',\n",
       " 'Little',\n",
       " 'Dumbo',\n",
       " 'Pet Sematary',\n",
       " 'Us',\n",
       " 'Missing Link',\n",
       " 'Hellboy',\n",
       " 'After',\n",
       " 'Disneynature: Penguins',\n",
       " 'Kalank',\n",
       " 'How To Train Your Dragon: The Hidden World',\n",
       " 'Amazing Grace',\n",
       " 'The Best Of Enemies',\n",
       " 'Unplanned',\n",
       " 'Five Feet Apart',\n",
       " 'The Mustang',\n",
       " 'Hotel Mumbai',\n",
       " 'Wonder Park',\n",
       " 'High Life',\n",
       " 'Teen Spirit',\n",
       " \"Tyler Perry's A Madea Family Funeral\",\n",
       " 'The LEGO Movie 2: The Second Part',\n",
       " 'Apollo 11',\n",
       " \"Isn't It Romantic\",\n",
       " 'No Manches Frida 2',\n",
       " 'The Chaperone',\n",
       " 'The Upside',\n",
       " 'Alita: Battle Angel',\n",
       " 'Wild Nights With Emily']"
      ]
     },
     "execution_count": 143,
     "metadata": {},
     "output_type": "execute_result"
    }
   ],
   "source": [
    "titles"
   ]
  },
  {
   "cell_type": "code",
   "execution_count": 156,
   "metadata": {},
   "outputs": [],
   "source": [
    "def get_scores(browser):\n",
    "    \"\"\"Get critic/audience score\"\"\"\n",
    "    sel = \"div.mb-movies div.mb-movie div.movie_info a div\"\n",
    "    scores = browser.find_elements_by_css_selector(sel)\n",
    "    return scores"
   ]
  },
  {
   "cell_type": "code",
   "execution_count": 162,
   "metadata": {},
   "outputs": [
    {
     "data": {
      "text/plain": [
       "' 32% 50%'"
      ]
     },
     "execution_count": 162,
     "metadata": {},
     "output_type": "execute_result"
    }
   ],
   "source": [
    "get_scores(browser)[0].text"
   ]
  },
  {
   "cell_type": "code",
   "execution_count": 172,
   "metadata": {},
   "outputs": [
    {
     "data": {
      "text/plain": [
       "' 32% 50%'"
      ]
     },
     "execution_count": 172,
     "metadata": {},
     "output_type": "execute_result"
    }
   ],
   "source": [
    "both_scores = get_scores(browser)\n",
    "both_scores[0].text"
   ]
  },
  {
   "cell_type": "code",
   "execution_count": 173,
   "metadata": {},
   "outputs": [
    {
     "data": {
      "text/plain": [
       "[' 32% 50%',\n",
       " \"Critic Consensus:\\nContent to coast on jump scares rather than tap into its story's creepy potential, The Curse of La Llorona arrives in theaters already broken.\",\n",
       " ' 90% 87%',\n",
       " \"Critic Consensus:\\nAn effortlessly entertaining blend of humor and heart, Shazam! is a superhero movie that never forgets the genre's real power: joyous wish fulfillment.\",\n",
       " ' 64% 78%',\n",
       " 'Critic Consensus:\\nLike its lead character, Breakthrough is fiercely focused on faith -- but its less subtle elements are balanced by strong performances and an uplifting story.',\n",
       " ' 78% 56%',\n",
       " \"Critic Consensus:\\nPacked with action, humor, and visual thrills, Captain Marvel introduces the MCU's latest hero with an origin story that makes effective use of the franchise's signature formula.\",\n",
       " ' 46% 74%',\n",
       " 'Critic Consensus:\\nA disappointingly uneven but overall agreeable spin on a familiar formula, Little benefits from a big heart -- and a story that makes good use of its talented, well-matched cast.',\n",
       " ' 47% 55%',\n",
       " \"Critic Consensus:\\nDumbo is held partly aloft by Tim Burton's visual flair, but a crowded canvas and overstretched story leave this live-action remake more workmanlike than wondrous.\",\n",
       " ' 58% 40%',\n",
       " 'Critic Consensus:\\nPet Sematary takes its source material in a few different directions, but this remake feels like an exhuming almost as often as it does a revival.',\n",
       " ' 94% 66%',\n",
       " \"Critic Consensus:\\nWith Jordan Peele's second inventive, ambitious horror film, we have seen how to beat the sophomore jinx, and it is Us.\",\n",
       " ' 89% 70%',\n",
       " 'Critic Consensus:\\nAnother beautifully animated triumph for Laika, Missing Link is a visual treat with lots of humor, plenty of heart, and even a little food for thought.',\n",
       " ' 14% 60%',\n",
       " 'Critic Consensus:\\nBereft of the imaginative flair that made earlier Hellboys so enjoyable, this soulless reboot suggests Dante may have left a tenth circle out of his Inferno.',\n",
       " ' 20% 78%',\n",
       " \"Synopsis:\\nBased on Anna Todd's best-selling novel which became a publishing sensation on social storytelling platform Wattpad, AFTER follows Tessa (Langford), a dedicated student, dutiful daughter and loyal girlfriend to her high school sweetheart, as she enters her first semester in college. Armed with grand ambitions for her future, her guarded world opens up when she meets the dark and mysterious Hardin Scott (Tiffin), a magnetic, brooding rebel who makes her question all she thought she knew about herself and what she wants out of life.\",\n",
       " ' 91% 75%',\n",
       " \"Critic Consensus:\\nDisneynature: Penguins plays up its subjects' adorable appeal with a beautifully filmed documentary that adds plenty of anthropomorphic entertainment value for young viewers.\",\n",
       " ' 38% 37%',\n",
       " \"Synopsis:\\n'Kalank' is an epic romantic drama of six enigmatic, esoteric and wistful characters entangled in search of love but separated by the dichotomy between the two worlds of Husnabad, a town in North India. The elite, opulent and solemn world of the Chaudhry family, and the wild, mysterious and musical underbelly of the town, Hira Mandi, clash when Roop Chaudhry encounters Zafar, a daredevil from Hira Mandi, unleashing deep-buried truths, secrets of betrayal and affairs that threaten to bring the both worlds crashing down. Set in 1945, in Pre-Independent India, 'Kalank' is the story of a vivid and ethereal world, lost when the fire of Partition engulfs the city and the country. It's the story of the shades of Reds in their lives as they yearn for hues of love while Husnabad gets soaked in the reds of violence and revenge.\",\n",
       " ' 91% 87%',\n",
       " 'Critic Consensus:\\nThe rare trilogy capper that really works, How to Train Your Dragon: The Hidden World brings its saga to a visually dazzling and emotionally affecting conclusion.',\n",
       " ' 99% 90%',\n",
       " 'Critic Consensus:\\nBrilliantly capturing a remarkable performer near the peak of her prodigious power, Amazing Grace is a thrilling must-watch documentary for Aretha Franklin fans.',\n",
       " ' 52% 76%',\n",
       " \"Critic Consensus:\\nThe Best of Enemies has the best of intentions, but they're derailed by a problematic perspective and a disappointing lack of insight.\",\n",
       " ' 48% 92%',\n",
       " 'Critic Consensus:\\nA dramatic approach to a hot-button topic whose agenda is immediately clear, Unplanned will only reinforce the feelings of viewers on either side of the issue.',\n",
       " ' 55% 79%',\n",
       " \"Critic Consensus:\\nElevated considerably by Haley Lu Richardson's performance but bogged down by clichés, Five Feet Apart doesn't tug at the heartstrings quite as deftly as it should.\",\n",
       " ' 94% 75%',\n",
       " 'Critic Consensus:\\nThe Mustang finds fresh perspectives in a familiar redemption tale brought brilliantly to life by powerful performances from Bruce Dern and Matthias Schoenaerts.',\n",
       " ' 75% 84%',\n",
       " 'Critic Consensus:\\nIts depiction of real-life horror will strike some as exploitative, but Hotel Mumbai remains a well-made dramatization of tragic events.',\n",
       " ' 33% 38%',\n",
       " 'Critic Consensus:\\nColorful and energetic but lacking a compelling story, Wonder Park is little more than a competently made diversion for very young viewers.',\n",
       " ' 82% 49%',\n",
       " \"Critic Consensus:\\nHigh Life is as visually arresting as it is challenging, confounding, and ultimately rewarding - which is to say it's everything film fans expect from director Claire Denis.\",\n",
       " ' 71% 81%',\n",
       " \"Critic Consensus:\\nTeen Spirit tells a story we know by heart, but writer-director Max Minghella's connection to the material and Elle Fanning's remarkable performance add an effective hook.\",\n",
       " ' 13% 25%',\n",
       " \"Critic Consensus:\\nA lackluster conclusion to Tyler Perry's long-running franchise, A Madea Family Funeral proves saying goodbye can be painful for all the wrong reasons.\",\n",
       " ' 86% 71%',\n",
       " \"Critic Consensus:\\nWhile it isn't quite as much fun as its predecessor, The LEGO Movie 2: The Second Part fits neatly into an animated all-ages franchise with heart and humor to spare.\",\n",
       " ' 98% 90%',\n",
       " 'Critic Consensus:\\nEdifying and inspiring in equal measure, Apollo 11 uses artfully repurposed archival footage to send audiences soaring back to a pivotal time in American history.',\n",
       " ' 69% 50%',\n",
       " \"Critic Consensus:\\nIt follows as many genre conventions as it mocks, but Isn't It Romantic is a feel-good rom-com with some satirical bite -- and a star well-suited for both.\",\n",
       " ' 14% 23%',\n",
       " \"Synopsis:\\nIn this over-the-top sequel to the smash hit No Manches Frida, the all-star cast of the original (OMAR CHAPARRO and MARTHA HIGAREDA) and some fresh new faces (ITATÍ CANTORAL and AARON DÍAZ) leave the school yard and hit the beach in NO MANCHES FRIDA 2! But there's trouble in paradise... literally. When the seemingly reformed ex-con Zequi is about to marry the love of his life, the lovably nerdy Lucy, wedding day jitters turn into a full blown fiasco and Lucy calls the wedding off. Meanwhile, the school finds itself in deep trouble and the gang heads to the water to compete in the tournament of their lives. Once they're all seaside, Lucy runs into her high school sweetheart Mario, whom since she last saw him has transformed into a smoking hot hunk. He's coach of the opposing squad and Zequi finds himself a rival in more than one competition. Now he has to pull out all the stops to wrangle in his rowdy kids, win Lucy back, and in case that wasn't enough, save the school from shutting down by leading Frida High to victory!\",\n",
       " ' 39% 93%',\n",
       " \"Synopsis:\\nLouise Brooks the 1920s silver screen sensation who never met a rule she didn't break, epitomized the restless, reckless spirit of the Jazz Age. But, just a few years earlier, she was a 15 year-old student in Wichita, Kansas for whom fame and fortune were only dreams. When the opportunity arises for her to go to New York to study with a leading dance troupe, her mother (Victoria Hill) insists there be a chaperone. Norma Carlisle (Elizabeth McGovern), a local society matron who never broke a rule in her life, impulsively volunteers to accompany Louise (Haley Lu Richardson) to New York for the summer. Why does this utterly conventional woman do this? What happens to her when she lands in Manhattan with an unusually rebellious teenager as her ward? And, which of the two women is stronger, the uptight wife-and-mother or the irrepressible free spirit? It's a story full of surprises--about who these women really are, and who they eventually become.\",\n",
       " ' 41% 84%',\n",
       " \"Critic Consensus:\\nPreachy, manipulative, and frustratingly clichéd, The Upside showcases Bryan Cranston and Kevin Hart's chemistry without ever taking full advantage of it.\",\n",
       " ' 60% 94%',\n",
       " \"Critic Consensus:\\nAlita: Battle Angel's story struggles to keep up with its special effects, but fans of futuristic sci-fi action may still find themselves more than sufficiently entertained.\",\n",
       " ' 89% 75%',\n",
       " 'Critic Consensus:\\nSilly yet deceptively smart, Wild Nights with Emily approaches its oft-investigated subject from a unique -- and utterly entertaining -- vantage point.']"
      ]
     },
     "execution_count": 173,
     "metadata": {},
     "output_type": "execute_result"
    }
   ],
   "source": [
    "scores = []\n",
    "for kayli in both_scores:\n",
    "    one_score = kayli.text\n",
    "    scores.append(one_score)\n",
    "scores"
   ]
  },
  {
   "cell_type": "code",
   "execution_count": 171,
   "metadata": {},
   "outputs": [],
   "source": [
    "def get_scores(browser):\n",
    "    \"\"\"Get critic/audience score\"\"\"\n",
    "    sel = \"div.mb-movies div.mb-movie div.movie_info a div\"\n",
    "    score = browser.find_elements_by_css_selector(sel)\n",
    "    return score"
   ]
  },
  {
   "cell_type": "code",
   "execution_count": null,
   "metadata": {},
   "outputs": [],
   "source": []
  },
  {
   "cell_type": "code",
   "execution_count": 133,
   "metadata": {},
   "outputs": [],
   "source": [
    "split_scores = [score.replace(' ','').split('%') for score in scores]"
   ]
  },
  {
   "cell_type": "code",
   "execution_count": 134,
   "metadata": {},
   "outputs": [
    {
     "data": {
      "text/plain": [
       "[['32', '50', ''],\n",
       " [\"CriticConsensus:\\nContenttocoastonjumpscaresratherthantapintoitsstory'screepypotential,TheCurseofLaLloronaarrivesintheatersalreadybroken.\"],\n",
       " ['90', '87', ''],\n",
       " [\"CriticConsensus:\\nAneffortlesslyentertainingblendofhumorandheart,Shazam!isasuperheromoviethatneverforgetsthegenre'srealpower:joyouswishfulfillment.\"],\n",
       " ['64', '78', ''],\n",
       " ['CriticConsensus:\\nLikeitsleadcharacter,Breakthroughisfiercelyfocusedonfaith--butitslesssubtleelementsarebalancedbystrongperformancesandanupliftingstory.'],\n",
       " ['78', '56', ''],\n",
       " [\"CriticConsensus:\\nPackedwithaction,humor,andvisualthrills,CaptainMarvelintroducestheMCU'slatestherowithanoriginstorythatmakeseffectiveuseofthefranchise'ssignatureformula.\"],\n",
       " ['46', '74', ''],\n",
       " ['CriticConsensus:\\nAdisappointinglyunevenbutoverallagreeablespinonafamiliarformula,Littlebenefitsfromabigheart--andastorythatmakesgooduseofitstalented,well-matchedcast.'],\n",
       " ['47', '55', ''],\n",
       " [\"CriticConsensus:\\nDumboisheldpartlyaloftbyTimBurton'svisualflair,butacrowdedcanvasandoverstretchedstoryleavethislive-actionremakemoreworkmanlikethanwondrous.\"],\n",
       " ['58', '40', ''],\n",
       " ['CriticConsensus:\\nPetSematarytakesitssourcematerialinafewdifferentdirections,butthisremakefeelslikeanexhumingalmostasoftenasitdoesarevival.'],\n",
       " ['94', '66', ''],\n",
       " [\"CriticConsensus:\\nWithJordanPeele'ssecondinventive,ambitioushorrorfilm,wehaveseenhowtobeatthesophomorejinx,anditisUs.\"],\n",
       " ['89', '70', ''],\n",
       " ['CriticConsensus:\\nAnotherbeautifullyanimatedtriumphforLaika,MissingLinkisavisualtreatwithlotsofhumor,plentyofheart,andevenalittlefoodforthought.'],\n",
       " ['14', '60', ''],\n",
       " ['CriticConsensus:\\nBereftoftheimaginativeflairthatmadeearlierHellboyssoenjoyable,thissoullessrebootsuggestsDantemayhaveleftatenthcircleoutofhisInferno.'],\n",
       " ['20', '78', ''],\n",
       " [\"Synopsis:\\nBasedonAnnaTodd'sbest-sellingnovelwhichbecameapublishingsensationonsocialstorytellingplatformWattpad,AFTERfollowsTessa(Langford),adedicatedstudent,dutifuldaughterandloyalgirlfriendtoherhighschoolsweetheart,assheentersherfirstsemesterincollege.Armedwithgrandambitionsforherfuture,herguardedworldopensupwhenshemeetsthedarkandmysteriousHardinScott(Tiffin),amagnetic,broodingrebelwhomakesherquestionallshethoughtsheknewaboutherselfandwhatshewantsoutoflife.\"],\n",
       " ['91', '75', ''],\n",
       " [\"CriticConsensus:\\nDisneynature:Penguinsplaysupitssubjects'adorableappealwithabeautifullyfilmeddocumentarythataddsplentyofanthropomorphicentertainmentvalueforyoungviewers.\"],\n",
       " ['38', '37', ''],\n",
       " [\"Synopsis:\\n'Kalank'isanepicromanticdramaofsixenigmatic,esotericandwistfulcharactersentangledinsearchoflovebutseparatedbythedichotomybetweenthetwoworldsofHusnabad,atowninNorthIndia.Theelite,opulentandsolemnworldoftheChaudhryfamily,andthewild,mysteriousandmusicalunderbellyofthetown,HiraMandi,clashwhenRoopChaudhryencountersZafar,adaredevilfromHiraMandi,unleashingdeep-buriedtruths,secretsofbetrayalandaffairsthatthreatentobringthebothworldscrashingdown.Setin1945,inPre-IndependentIndia,'Kalank'isthestoryofavividandetherealworld,lostwhenthefireofPartitionengulfsthecityandthecountry.It'sthestoryoftheshadesofRedsintheirlivesastheyyearnforhuesoflovewhileHusnabadgetssoakedintheredsofviolenceandrevenge.\"],\n",
       " ['91', '87', ''],\n",
       " ['CriticConsensus:\\nTheraretrilogycapperthatreallyworks,HowtoTrainYourDragon:TheHiddenWorldbringsitssagatoavisuallydazzlingandemotionallyaffectingconclusion.'],\n",
       " ['99', '90', ''],\n",
       " ['CriticConsensus:\\nBrilliantlycapturingaremarkableperformernearthepeakofherprodigiouspower,AmazingGraceisathrillingmust-watchdocumentaryforArethaFranklinfans.'],\n",
       " ['52', '76', ''],\n",
       " [\"CriticConsensus:\\nTheBestofEnemieshasthebestofintentions,butthey'rederailedbyaproblematicperspectiveandadisappointinglackofinsight.\"],\n",
       " ['48', '92', ''],\n",
       " ['CriticConsensus:\\nAdramaticapproachtoahot-buttontopicwhoseagendaisimmediatelyclear,Unplannedwillonlyreinforcethefeelingsofviewersoneithersideoftheissue.'],\n",
       " ['55', '79', ''],\n",
       " [\"CriticConsensus:\\nElevatedconsiderablybyHaleyLuRichardson'sperformancebutboggeddownbyclichés,FiveFeetApartdoesn'ttugattheheartstringsquiteasdeftlyasitshould.\"],\n",
       " ['94', '75', ''],\n",
       " ['CriticConsensus:\\nTheMustangfindsfreshperspectivesinafamiliarredemptiontalebroughtbrilliantlytolifebypowerfulperformancesfromBruceDernandMatthiasSchoenaerts.'],\n",
       " ['75', '84', ''],\n",
       " ['CriticConsensus:\\nItsdepictionofreal-lifehorrorwillstrikesomeasexploitative,butHotelMumbairemainsawell-madedramatizationoftragicevents.'],\n",
       " ['33', '38', ''],\n",
       " ['CriticConsensus:\\nColorfulandenergeticbutlackingacompellingstory,WonderParkislittlemorethanacompetentlymadediversionforveryyoungviewers.'],\n",
       " ['82', '49', ''],\n",
       " [\"CriticConsensus:\\nHighLifeisasvisuallyarrestingasitischallenging,confounding,andultimatelyrewarding-whichistosayit'severythingfilmfansexpectfromdirectorClaireDenis.\"],\n",
       " ['71', '81', ''],\n",
       " [\"CriticConsensus:\\nTeenSpirittellsastoryweknowbyheart,butwriter-directorMaxMinghella'sconnectiontothematerialandElleFanning'sremarkableperformanceaddaneffectivehook.\"],\n",
       " ['13', '25', ''],\n",
       " [\"CriticConsensus:\\nAlacklusterconclusiontoTylerPerry'slong-runningfranchise,AMadeaFamilyFuneralprovessayinggoodbyecanbepainfulforallthewrongreasons.\"],\n",
       " ['86', '71', ''],\n",
       " [\"CriticConsensus:\\nWhileitisn'tquiteasmuchfunasitspredecessor,TheLEGOMovie2:TheSecondPartfitsneatlyintoananimatedall-agesfranchisewithheartandhumortospare.\"],\n",
       " ['98', '90', ''],\n",
       " ['CriticConsensus:\\nEdifyingandinspiringinequalmeasure,Apollo11usesartfullyrepurposedarchivalfootagetosendaudiencessoaringbacktoapivotaltimeinAmericanhistory.'],\n",
       " ['69', '50', ''],\n",
       " [\"CriticConsensus:\\nItfollowsasmanygenreconventionsasitmocks,butIsn'tItRomanticisafeel-goodrom-comwithsomesatiricalbite--andastarwell-suitedforboth.\"],\n",
       " ['14', '23', ''],\n",
       " [\"Synopsis:\\nInthisover-the-topsequeltothesmashhitNoManchesFrida,theall-starcastoftheoriginal(OMARCHAPARROandMARTHAHIGAREDA)andsomefreshnewfaces(ITATÍCANTORALandAARONDÍAZ)leavetheschoolyardandhitthebeachinNOMANCHESFRIDA2!Butthere'stroubleinparadise...literally.Whentheseeminglyreformedex-conZequiisabouttomarrytheloveofhislife,thelovablynerdyLucy,weddingdayjittersturnintoafullblownfiascoandLucycallstheweddingoff.Meanwhile,theschoolfindsitselfindeeptroubleandthegangheadstothewatertocompeteinthetournamentoftheirlives.Oncethey'reallseaside,LucyrunsintoherhighschoolsweetheartMario,whomsinceshelastsawhimhastransformedintoasmokinghothunk.He'scoachoftheopposingsquadandZequifindshimselfarivalinmorethanonecompetition.Nowhehastopulloutallthestopstowrangleinhisrowdykids,winLucyback,andincasethatwasn'tenough,savetheschoolfromshuttingdownbyleadingFridaHightovictory!\"],\n",
       " ['39', '93', ''],\n",
       " [\"Synopsis:\\nLouiseBrooksthe1920ssilverscreensensationwhonevermetaruleshedidn'tbreak,epitomizedtherestless,recklessspiritoftheJazzAge.But,justafewyearsearlier,shewasa15year-oldstudentinWichita,Kansasforwhomfameandfortunewereonlydreams.WhentheopportunityarisesforhertogotoNewYorktostudywithaleadingdancetroupe,hermother(VictoriaHill)insiststherebeachaperone.NormaCarlisle(ElizabethMcGovern),alocalsocietymatronwhoneverbrokearuleinherlife,impulsivelyvolunteerstoaccompanyLouise(HaleyLuRichardson)toNewYorkforthesummer.Whydoesthisutterlyconventionalwomandothis?WhathappenstoherwhenshelandsinManhattanwithanunusuallyrebelliousteenagerasherward?And,whichofthetwowomenisstronger,theuptightwife-and-motherortheirrepressiblefreespirit?It'sastoryfullofsurprises--aboutwhothesewomenreallyare,andwhotheyeventuallybecome.\"],\n",
       " ['41', '84', ''],\n",
       " [\"CriticConsensus:\\nPreachy,manipulative,andfrustratinglyclichéd,TheUpsideshowcasesBryanCranstonandKevinHart'schemistrywithoutevertakingfulladvantageofit.\"],\n",
       " ['60', '94', ''],\n",
       " [\"CriticConsensus:\\nAlita:BattleAngel'sstorystrugglestokeepupwithitsspecialeffects,butfansoffuturisticsci-fiactionmaystillfindthemselvesmorethansufficientlyentertained.\"],\n",
       " ['89', '75', ''],\n",
       " ['CriticConsensus:\\nSillyyetdeceptivelysmart,WildNightswithEmilyapproachesitsoft-investigatedsubjectfromaunique--andutterlyentertaining--vantagepoint.']]"
      ]
     },
     "execution_count": 134,
     "metadata": {},
     "output_type": "execute_result"
    }
   ],
   "source": [
    "split_scores"
   ]
  },
  {
   "cell_type": "code",
   "execution_count": 112,
   "metadata": {},
   "outputs": [],
   "source": []
  },
  {
   "cell_type": "code",
   "execution_count": null,
   "metadata": {},
   "outputs": [],
   "source": [
    "# def scrape_image(img, filename):\n",
    "#     \"\"\"Save an image element as filename\"\"\"\n",
    "#     response = requests.get(img.get_attribute('src'))\n",
    "#     img_data = response.content\n",
    "#     with open(filename, 'wb') as f:\n",
    "#         f.write(img_data)"
   ]
  },
  {
   "cell_type": "code",
   "execution_count": null,
   "metadata": {},
   "outputs": [],
   "source": [
    "# def find_image(browser):\n",
    "#     \"\"\"Return the image element of the xkcd page.\"\"\"\n",
    "#     sel = \"div#comic img\"\n",
    "#     img = browser.find_element_by_css_selector(sel)\n",
    "#     return img"
   ]
  },
  {
   "cell_type": "code",
   "execution_count": 25,
   "metadata": {},
   "outputs": [
    {
     "name": "stdout",
     "output_type": "stream",
     "text": [
      "election_commentary.png\n",
      "m87_black_hole_size_comparison.png\n",
      "too_much_talking.png\n",
      "eht_black_hole_picture.png\n",
      "percentage_styles.png\n",
      "emojidome.png\n",
      "industry_nicknames.png\n",
      "1921_fact_checker.png\n",
      "new_robot.png\n",
      "panama_canal.png\n",
      "google_trends_maps.png\n",
      "luna_2.png\n",
      "space_mission_hearing.png\n",
      "meta_collecting.png\n",
      "size_venn_diagram.png\n",
      "light_pollution.png\n",
      "brain_hemispheres.png\n",
      "video_orientation.png\n",
      "normal_distribution.png\n",
      "differentiation_and_integration.png\n",
      ".norm_normal_file_format.png\n",
      "plutonium.png\n",
      "launch_conditions.png\n",
      "physics_suppression.png\n",
      "night_shift.png\n",
      "opportunity_rover.png\n",
      "error_bars.png\n",
      "invisible_formatting.png\n",
      "carbonated_beverage_language_map.png\n",
      "launch_risk.png\n",
      "sharing_options.png\n",
      "modern_osi_model.png\n",
      "biff_tannen.png\n",
      "midcontinent_rift_system.png\n",
      "internet_archive.png\n",
      "technical_analysis.png\n",
      "models_of_the_atom.png\n",
      "missal_of_silos.png\n",
      "magnetic_pole.png\n",
      "thor_tools.png\n",
      "mattresses.png\n",
      "marsiforming.png\n",
      "short_selling.png\n",
      "reminders.png\n",
      "consensus_new_year.png\n",
      "million,_billion,_trillion.png\n",
      "feathered_dinosaur_venn_diagram.png\n",
      "christmas_eve_eve.png\n",
      "schwarzschild's_cat.png\n",
      "rocket_launch.png\n",
      "history_department.png\n",
      "arxiv.png\n",
      "fdr.png\n",
      "laptop_issues.png\n",
      "mercator_projection.png\n",
      "middle_latitudes.png\n",
      "cohort_and_age_effects.png\n",
      "alpha_centauri.png\n",
      "popper.png\n",
      "heist.png\n",
      "horror_movies_2.png\n",
      "update_your_address.png\n",
      "airplanes_and_spaceships.png\n",
      "kilogram.png\n",
      "evaluating_tech_things.png\n",
      "indirect_detection.png\n",
      "trig_identities.png\n",
      "wishlist.png\n",
      "election_night.png\n",
      "challengers.png\n",
      "ballot_selfies.png\n",
      "who_sends_the_first_text?.png\n",
      "i'm_a_car.png\n",
      "carnot_cycle.png\n",
      "barnard's_star.png\n",
      "tectonics_game.png\n",
      "hygrometer.png\n",
      "modified_bayes'_theorem.png\n",
      "rock_wall.png\n",
      "internal_monologues.png\n",
      "horror_movies.png\n",
      "bluetooth.png\n",
      "data_pipeline.png\n",
      "incoming_calls.png\n",
      "stanislav_petrov_day.png\n",
      "bad_opinions.png\n"
     ]
    },
    {
     "ename": "ConnectionError",
     "evalue": "HTTPSConnectionPool(host='imgs.xkcd.com', port=443): Max retries exceeded with url: /comics/bad_opinions.png (Caused by NewConnectionError('<urllib3.connection.VerifiedHTTPSConnection object at 0x113a1fe48>: Failed to establish a new connection: [Errno 8] nodename nor servname provided, or not known'))",
     "output_type": "error",
     "traceback": [
      "\u001b[0;31m---------------------------------------------------------------------------\u001b[0m",
      "\u001b[0;31mgaierror\u001b[0m                                  Traceback (most recent call last)",
      "\u001b[0;32m~/anaconda3/lib/python3.7/site-packages/urllib3/connection.py\u001b[0m in \u001b[0;36m_new_conn\u001b[0;34m(self)\u001b[0m\n\u001b[1;32m    158\u001b[0m             conn = connection.create_connection(\n\u001b[0;32m--> 159\u001b[0;31m                 (self._dns_host, self.port), self.timeout, **extra_kw)\n\u001b[0m\u001b[1;32m    160\u001b[0m \u001b[0;34m\u001b[0m\u001b[0m\n",
      "\u001b[0;32m~/anaconda3/lib/python3.7/site-packages/urllib3/util/connection.py\u001b[0m in \u001b[0;36mcreate_connection\u001b[0;34m(address, timeout, source_address, socket_options)\u001b[0m\n\u001b[1;32m     56\u001b[0m \u001b[0;34m\u001b[0m\u001b[0m\n\u001b[0;32m---> 57\u001b[0;31m     \u001b[0;32mfor\u001b[0m \u001b[0mres\u001b[0m \u001b[0;32min\u001b[0m \u001b[0msocket\u001b[0m\u001b[0;34m.\u001b[0m\u001b[0mgetaddrinfo\u001b[0m\u001b[0;34m(\u001b[0m\u001b[0mhost\u001b[0m\u001b[0;34m,\u001b[0m \u001b[0mport\u001b[0m\u001b[0;34m,\u001b[0m \u001b[0mfamily\u001b[0m\u001b[0;34m,\u001b[0m \u001b[0msocket\u001b[0m\u001b[0;34m.\u001b[0m\u001b[0mSOCK_STREAM\u001b[0m\u001b[0;34m)\u001b[0m\u001b[0;34m:\u001b[0m\u001b[0;34m\u001b[0m\u001b[0;34m\u001b[0m\u001b[0m\n\u001b[0m\u001b[1;32m     58\u001b[0m         \u001b[0maf\u001b[0m\u001b[0;34m,\u001b[0m \u001b[0msocktype\u001b[0m\u001b[0;34m,\u001b[0m \u001b[0mproto\u001b[0m\u001b[0;34m,\u001b[0m \u001b[0mcanonname\u001b[0m\u001b[0;34m,\u001b[0m \u001b[0msa\u001b[0m \u001b[0;34m=\u001b[0m \u001b[0mres\u001b[0m\u001b[0;34m\u001b[0m\u001b[0;34m\u001b[0m\u001b[0m\n",
      "\u001b[0;32m~/anaconda3/lib/python3.7/socket.py\u001b[0m in \u001b[0;36mgetaddrinfo\u001b[0;34m(host, port, family, type, proto, flags)\u001b[0m\n\u001b[1;32m    747\u001b[0m     \u001b[0maddrlist\u001b[0m \u001b[0;34m=\u001b[0m \u001b[0;34m[\u001b[0m\u001b[0;34m]\u001b[0m\u001b[0;34m\u001b[0m\u001b[0;34m\u001b[0m\u001b[0m\n\u001b[0;32m--> 748\u001b[0;31m     \u001b[0;32mfor\u001b[0m \u001b[0mres\u001b[0m \u001b[0;32min\u001b[0m \u001b[0m_socket\u001b[0m\u001b[0;34m.\u001b[0m\u001b[0mgetaddrinfo\u001b[0m\u001b[0;34m(\u001b[0m\u001b[0mhost\u001b[0m\u001b[0;34m,\u001b[0m \u001b[0mport\u001b[0m\u001b[0;34m,\u001b[0m \u001b[0mfamily\u001b[0m\u001b[0;34m,\u001b[0m \u001b[0mtype\u001b[0m\u001b[0;34m,\u001b[0m \u001b[0mproto\u001b[0m\u001b[0;34m,\u001b[0m \u001b[0mflags\u001b[0m\u001b[0;34m)\u001b[0m\u001b[0;34m:\u001b[0m\u001b[0;34m\u001b[0m\u001b[0;34m\u001b[0m\u001b[0m\n\u001b[0m\u001b[1;32m    749\u001b[0m         \u001b[0maf\u001b[0m\u001b[0;34m,\u001b[0m \u001b[0msocktype\u001b[0m\u001b[0;34m,\u001b[0m \u001b[0mproto\u001b[0m\u001b[0;34m,\u001b[0m \u001b[0mcanonname\u001b[0m\u001b[0;34m,\u001b[0m \u001b[0msa\u001b[0m \u001b[0;34m=\u001b[0m \u001b[0mres\u001b[0m\u001b[0;34m\u001b[0m\u001b[0;34m\u001b[0m\u001b[0m\n",
      "\u001b[0;31mgaierror\u001b[0m: [Errno 8] nodename nor servname provided, or not known",
      "\nDuring handling of the above exception, another exception occurred:\n",
      "\u001b[0;31mNewConnectionError\u001b[0m                        Traceback (most recent call last)",
      "\u001b[0;32m~/anaconda3/lib/python3.7/site-packages/urllib3/connectionpool.py\u001b[0m in \u001b[0;36murlopen\u001b[0;34m(self, method, url, body, headers, retries, redirect, assert_same_host, timeout, pool_timeout, release_conn, chunked, body_pos, **response_kw)\u001b[0m\n\u001b[1;32m    599\u001b[0m                                                   \u001b[0mbody\u001b[0m\u001b[0;34m=\u001b[0m\u001b[0mbody\u001b[0m\u001b[0;34m,\u001b[0m \u001b[0mheaders\u001b[0m\u001b[0;34m=\u001b[0m\u001b[0mheaders\u001b[0m\u001b[0;34m,\u001b[0m\u001b[0;34m\u001b[0m\u001b[0;34m\u001b[0m\u001b[0m\n\u001b[0;32m--> 600\u001b[0;31m                                                   chunked=chunked)\n\u001b[0m\u001b[1;32m    601\u001b[0m \u001b[0;34m\u001b[0m\u001b[0m\n",
      "\u001b[0;32m~/anaconda3/lib/python3.7/site-packages/urllib3/connectionpool.py\u001b[0m in \u001b[0;36m_make_request\u001b[0;34m(self, conn, method, url, timeout, chunked, **httplib_request_kw)\u001b[0m\n\u001b[1;32m    342\u001b[0m         \u001b[0;32mtry\u001b[0m\u001b[0;34m:\u001b[0m\u001b[0;34m\u001b[0m\u001b[0;34m\u001b[0m\u001b[0m\n\u001b[0;32m--> 343\u001b[0;31m             \u001b[0mself\u001b[0m\u001b[0;34m.\u001b[0m\u001b[0m_validate_conn\u001b[0m\u001b[0;34m(\u001b[0m\u001b[0mconn\u001b[0m\u001b[0;34m)\u001b[0m\u001b[0;34m\u001b[0m\u001b[0;34m\u001b[0m\u001b[0m\n\u001b[0m\u001b[1;32m    344\u001b[0m         \u001b[0;32mexcept\u001b[0m \u001b[0;34m(\u001b[0m\u001b[0mSocketTimeout\u001b[0m\u001b[0;34m,\u001b[0m \u001b[0mBaseSSLError\u001b[0m\u001b[0;34m)\u001b[0m \u001b[0;32mas\u001b[0m \u001b[0me\u001b[0m\u001b[0;34m:\u001b[0m\u001b[0;34m\u001b[0m\u001b[0;34m\u001b[0m\u001b[0m\n",
      "\u001b[0;32m~/anaconda3/lib/python3.7/site-packages/urllib3/connectionpool.py\u001b[0m in \u001b[0;36m_validate_conn\u001b[0;34m(self, conn)\u001b[0m\n\u001b[1;32m    838\u001b[0m         \u001b[0;32mif\u001b[0m \u001b[0;32mnot\u001b[0m \u001b[0mgetattr\u001b[0m\u001b[0;34m(\u001b[0m\u001b[0mconn\u001b[0m\u001b[0;34m,\u001b[0m \u001b[0;34m'sock'\u001b[0m\u001b[0;34m,\u001b[0m \u001b[0;32mNone\u001b[0m\u001b[0;34m)\u001b[0m\u001b[0;34m:\u001b[0m  \u001b[0;31m# AppEngine might not have  `.sock`\u001b[0m\u001b[0;34m\u001b[0m\u001b[0;34m\u001b[0m\u001b[0m\n\u001b[0;32m--> 839\u001b[0;31m             \u001b[0mconn\u001b[0m\u001b[0;34m.\u001b[0m\u001b[0mconnect\u001b[0m\u001b[0;34m(\u001b[0m\u001b[0;34m)\u001b[0m\u001b[0;34m\u001b[0m\u001b[0;34m\u001b[0m\u001b[0m\n\u001b[0m\u001b[1;32m    840\u001b[0m \u001b[0;34m\u001b[0m\u001b[0m\n",
      "\u001b[0;32m~/anaconda3/lib/python3.7/site-packages/urllib3/connection.py\u001b[0m in \u001b[0;36mconnect\u001b[0;34m(self)\u001b[0m\n\u001b[1;32m    300\u001b[0m         \u001b[0;31m# Add certificate verification\u001b[0m\u001b[0;34m\u001b[0m\u001b[0;34m\u001b[0m\u001b[0;34m\u001b[0m\u001b[0m\n\u001b[0;32m--> 301\u001b[0;31m         \u001b[0mconn\u001b[0m \u001b[0;34m=\u001b[0m \u001b[0mself\u001b[0m\u001b[0;34m.\u001b[0m\u001b[0m_new_conn\u001b[0m\u001b[0;34m(\u001b[0m\u001b[0;34m)\u001b[0m\u001b[0;34m\u001b[0m\u001b[0;34m\u001b[0m\u001b[0m\n\u001b[0m\u001b[1;32m    302\u001b[0m         \u001b[0mhostname\u001b[0m \u001b[0;34m=\u001b[0m \u001b[0mself\u001b[0m\u001b[0;34m.\u001b[0m\u001b[0mhost\u001b[0m\u001b[0;34m\u001b[0m\u001b[0;34m\u001b[0m\u001b[0m\n",
      "\u001b[0;32m~/anaconda3/lib/python3.7/site-packages/urllib3/connection.py\u001b[0m in \u001b[0;36m_new_conn\u001b[0;34m(self)\u001b[0m\n\u001b[1;32m    167\u001b[0m             raise NewConnectionError(\n\u001b[0;32m--> 168\u001b[0;31m                 self, \"Failed to establish a new connection: %s\" % e)\n\u001b[0m\u001b[1;32m    169\u001b[0m \u001b[0;34m\u001b[0m\u001b[0m\n",
      "\u001b[0;31mNewConnectionError\u001b[0m: <urllib3.connection.VerifiedHTTPSConnection object at 0x113a1fe48>: Failed to establish a new connection: [Errno 8] nodename nor servname provided, or not known",
      "\nDuring handling of the above exception, another exception occurred:\n",
      "\u001b[0;31mMaxRetryError\u001b[0m                             Traceback (most recent call last)",
      "\u001b[0;32m~/anaconda3/lib/python3.7/site-packages/requests/adapters.py\u001b[0m in \u001b[0;36msend\u001b[0;34m(self, request, stream, timeout, verify, cert, proxies)\u001b[0m\n\u001b[1;32m    448\u001b[0m                     \u001b[0mretries\u001b[0m\u001b[0;34m=\u001b[0m\u001b[0mself\u001b[0m\u001b[0;34m.\u001b[0m\u001b[0mmax_retries\u001b[0m\u001b[0;34m,\u001b[0m\u001b[0;34m\u001b[0m\u001b[0;34m\u001b[0m\u001b[0m\n\u001b[0;32m--> 449\u001b[0;31m                     \u001b[0mtimeout\u001b[0m\u001b[0;34m=\u001b[0m\u001b[0mtimeout\u001b[0m\u001b[0;34m\u001b[0m\u001b[0;34m\u001b[0m\u001b[0m\n\u001b[0m\u001b[1;32m    450\u001b[0m                 )\n",
      "\u001b[0;32m~/anaconda3/lib/python3.7/site-packages/urllib3/connectionpool.py\u001b[0m in \u001b[0;36murlopen\u001b[0;34m(self, method, url, body, headers, retries, redirect, assert_same_host, timeout, pool_timeout, release_conn, chunked, body_pos, **response_kw)\u001b[0m\n\u001b[1;32m    637\u001b[0m             retries = retries.increment(method, url, error=e, _pool=self,\n\u001b[0;32m--> 638\u001b[0;31m                                         _stacktrace=sys.exc_info()[2])\n\u001b[0m\u001b[1;32m    639\u001b[0m             \u001b[0mretries\u001b[0m\u001b[0;34m.\u001b[0m\u001b[0msleep\u001b[0m\u001b[0;34m(\u001b[0m\u001b[0;34m)\u001b[0m\u001b[0;34m\u001b[0m\u001b[0;34m\u001b[0m\u001b[0m\n",
      "\u001b[0;32m~/anaconda3/lib/python3.7/site-packages/urllib3/util/retry.py\u001b[0m in \u001b[0;36mincrement\u001b[0;34m(self, method, url, response, error, _pool, _stacktrace)\u001b[0m\n\u001b[1;32m    397\u001b[0m         \u001b[0;32mif\u001b[0m \u001b[0mnew_retry\u001b[0m\u001b[0;34m.\u001b[0m\u001b[0mis_exhausted\u001b[0m\u001b[0;34m(\u001b[0m\u001b[0;34m)\u001b[0m\u001b[0;34m:\u001b[0m\u001b[0;34m\u001b[0m\u001b[0;34m\u001b[0m\u001b[0m\n\u001b[0;32m--> 398\u001b[0;31m             \u001b[0;32mraise\u001b[0m \u001b[0mMaxRetryError\u001b[0m\u001b[0;34m(\u001b[0m\u001b[0m_pool\u001b[0m\u001b[0;34m,\u001b[0m \u001b[0murl\u001b[0m\u001b[0;34m,\u001b[0m \u001b[0merror\u001b[0m \u001b[0;32mor\u001b[0m \u001b[0mResponseError\u001b[0m\u001b[0;34m(\u001b[0m\u001b[0mcause\u001b[0m\u001b[0;34m)\u001b[0m\u001b[0;34m)\u001b[0m\u001b[0;34m\u001b[0m\u001b[0;34m\u001b[0m\u001b[0m\n\u001b[0m\u001b[1;32m    399\u001b[0m \u001b[0;34m\u001b[0m\u001b[0m\n",
      "\u001b[0;31mMaxRetryError\u001b[0m: HTTPSConnectionPool(host='imgs.xkcd.com', port=443): Max retries exceeded with url: /comics/bad_opinions.png (Caused by NewConnectionError('<urllib3.connection.VerifiedHTTPSConnection object at 0x113a1fe48>: Failed to establish a new connection: [Errno 8] nodename nor servname provided, or not known'))",
      "\nDuring handling of the above exception, another exception occurred:\n",
      "\u001b[0;31mConnectionError\u001b[0m                           Traceback (most recent call last)",
      "\u001b[0;32m<ipython-input-25-7a4b3476c45a>\u001b[0m in \u001b[0;36m<module>\u001b[0;34m\u001b[0m\n\u001b[1;32m      4\u001b[0m     \u001b[0mfilename\u001b[0m \u001b[0;34m=\u001b[0m \u001b[0mtitle\u001b[0m\u001b[0;34m.\u001b[0m\u001b[0mlower\u001b[0m\u001b[0;34m(\u001b[0m\u001b[0;34m)\u001b[0m\u001b[0;34m.\u001b[0m\u001b[0mreplace\u001b[0m\u001b[0;34m(\u001b[0m\u001b[0;34m' '\u001b[0m\u001b[0;34m,\u001b[0m \u001b[0;34m'_'\u001b[0m\u001b[0;34m)\u001b[0m \u001b[0;34m+\u001b[0m \u001b[0;34m'.png'\u001b[0m\u001b[0;34m\u001b[0m\u001b[0;34m\u001b[0m\u001b[0m\n\u001b[1;32m      5\u001b[0m     \u001b[0mprint\u001b[0m\u001b[0;34m(\u001b[0m\u001b[0mfilename\u001b[0m\u001b[0;34m)\u001b[0m\u001b[0;34m\u001b[0m\u001b[0;34m\u001b[0m\u001b[0m\n\u001b[0;32m----> 6\u001b[0;31m     \u001b[0mscrape_image\u001b[0m\u001b[0;34m(\u001b[0m\u001b[0mimg\u001b[0m\u001b[0;34m,\u001b[0m \u001b[0mfilename\u001b[0m\u001b[0;34m)\u001b[0m\u001b[0;34m\u001b[0m\u001b[0;34m\u001b[0m\u001b[0m\n\u001b[0m\u001b[1;32m      7\u001b[0m     \u001b[0mget_prev\u001b[0m\u001b[0;34m(\u001b[0m\u001b[0mbrowser\u001b[0m\u001b[0;34m)\u001b[0m\u001b[0;34m\u001b[0m\u001b[0;34m\u001b[0m\u001b[0m\n\u001b[1;32m      8\u001b[0m     \u001b[0mtime\u001b[0m\u001b[0;34m.\u001b[0m\u001b[0msleep\u001b[0m\u001b[0;34m(\u001b[0m\u001b[0;36m3\u001b[0m \u001b[0;34m+\u001b[0m \u001b[0mrandom\u001b[0m\u001b[0;34m.\u001b[0m\u001b[0mrandom\u001b[0m\u001b[0;34m(\u001b[0m\u001b[0;34m)\u001b[0m\u001b[0;34m*\u001b[0m\u001b[0;36m10\u001b[0m\u001b[0;34m)\u001b[0m\u001b[0;34m\u001b[0m\u001b[0;34m\u001b[0m\u001b[0m\n",
      "\u001b[0;32m~/f/sbox/web-scraping-lecture/scrape_functions.py\u001b[0m in \u001b[0;36mscrape_image\u001b[0;34m(img, filename)\u001b[0m\n\u001b[1;32m     16\u001b[0m \u001b[0;32mdef\u001b[0m \u001b[0mscrape_image\u001b[0m\u001b[0;34m(\u001b[0m\u001b[0mimg\u001b[0m\u001b[0;34m,\u001b[0m \u001b[0mfilename\u001b[0m\u001b[0;34m)\u001b[0m\u001b[0;34m:\u001b[0m\u001b[0;34m\u001b[0m\u001b[0;34m\u001b[0m\u001b[0m\n\u001b[1;32m     17\u001b[0m     \u001b[0;34m\"\"\"Save an image element as filename\"\"\"\u001b[0m\u001b[0;34m\u001b[0m\u001b[0;34m\u001b[0m\u001b[0m\n\u001b[0;32m---> 18\u001b[0;31m     \u001b[0mresponse\u001b[0m \u001b[0;34m=\u001b[0m \u001b[0mrequests\u001b[0m\u001b[0;34m.\u001b[0m\u001b[0mget\u001b[0m\u001b[0;34m(\u001b[0m\u001b[0mimg\u001b[0m\u001b[0;34m.\u001b[0m\u001b[0mget_attribute\u001b[0m\u001b[0;34m(\u001b[0m\u001b[0;34m'src'\u001b[0m\u001b[0;34m)\u001b[0m\u001b[0;34m)\u001b[0m\u001b[0;34m\u001b[0m\u001b[0;34m\u001b[0m\u001b[0m\n\u001b[0m\u001b[1;32m     19\u001b[0m     \u001b[0mimg_data\u001b[0m \u001b[0;34m=\u001b[0m \u001b[0mresponse\u001b[0m\u001b[0;34m.\u001b[0m\u001b[0mcontent\u001b[0m\u001b[0;34m\u001b[0m\u001b[0;34m\u001b[0m\u001b[0m\n\u001b[1;32m     20\u001b[0m     \u001b[0;32mwith\u001b[0m \u001b[0mopen\u001b[0m\u001b[0;34m(\u001b[0m\u001b[0mfilename\u001b[0m\u001b[0;34m,\u001b[0m \u001b[0;34m'wb'\u001b[0m\u001b[0;34m)\u001b[0m \u001b[0;32mas\u001b[0m \u001b[0mf\u001b[0m\u001b[0;34m:\u001b[0m\u001b[0;34m\u001b[0m\u001b[0;34m\u001b[0m\u001b[0m\n",
      "\u001b[0;32m~/anaconda3/lib/python3.7/site-packages/requests/api.py\u001b[0m in \u001b[0;36mget\u001b[0;34m(url, params, **kwargs)\u001b[0m\n\u001b[1;32m     73\u001b[0m \u001b[0;34m\u001b[0m\u001b[0m\n\u001b[1;32m     74\u001b[0m     \u001b[0mkwargs\u001b[0m\u001b[0;34m.\u001b[0m\u001b[0msetdefault\u001b[0m\u001b[0;34m(\u001b[0m\u001b[0;34m'allow_redirects'\u001b[0m\u001b[0;34m,\u001b[0m \u001b[0;32mTrue\u001b[0m\u001b[0;34m)\u001b[0m\u001b[0;34m\u001b[0m\u001b[0;34m\u001b[0m\u001b[0m\n\u001b[0;32m---> 75\u001b[0;31m     \u001b[0;32mreturn\u001b[0m \u001b[0mrequest\u001b[0m\u001b[0;34m(\u001b[0m\u001b[0;34m'get'\u001b[0m\u001b[0;34m,\u001b[0m \u001b[0murl\u001b[0m\u001b[0;34m,\u001b[0m \u001b[0mparams\u001b[0m\u001b[0;34m=\u001b[0m\u001b[0mparams\u001b[0m\u001b[0;34m,\u001b[0m \u001b[0;34m**\u001b[0m\u001b[0mkwargs\u001b[0m\u001b[0;34m)\u001b[0m\u001b[0;34m\u001b[0m\u001b[0;34m\u001b[0m\u001b[0m\n\u001b[0m\u001b[1;32m     76\u001b[0m \u001b[0;34m\u001b[0m\u001b[0m\n\u001b[1;32m     77\u001b[0m \u001b[0;34m\u001b[0m\u001b[0m\n",
      "\u001b[0;32m~/anaconda3/lib/python3.7/site-packages/requests/api.py\u001b[0m in \u001b[0;36mrequest\u001b[0;34m(method, url, **kwargs)\u001b[0m\n\u001b[1;32m     58\u001b[0m     \u001b[0;31m# cases, and look like a memory leak in others.\u001b[0m\u001b[0;34m\u001b[0m\u001b[0;34m\u001b[0m\u001b[0;34m\u001b[0m\u001b[0m\n\u001b[1;32m     59\u001b[0m     \u001b[0;32mwith\u001b[0m \u001b[0msessions\u001b[0m\u001b[0;34m.\u001b[0m\u001b[0mSession\u001b[0m\u001b[0;34m(\u001b[0m\u001b[0;34m)\u001b[0m \u001b[0;32mas\u001b[0m \u001b[0msession\u001b[0m\u001b[0;34m:\u001b[0m\u001b[0;34m\u001b[0m\u001b[0;34m\u001b[0m\u001b[0m\n\u001b[0;32m---> 60\u001b[0;31m         \u001b[0;32mreturn\u001b[0m \u001b[0msession\u001b[0m\u001b[0;34m.\u001b[0m\u001b[0mrequest\u001b[0m\u001b[0;34m(\u001b[0m\u001b[0mmethod\u001b[0m\u001b[0;34m=\u001b[0m\u001b[0mmethod\u001b[0m\u001b[0;34m,\u001b[0m \u001b[0murl\u001b[0m\u001b[0;34m=\u001b[0m\u001b[0murl\u001b[0m\u001b[0;34m,\u001b[0m \u001b[0;34m**\u001b[0m\u001b[0mkwargs\u001b[0m\u001b[0;34m)\u001b[0m\u001b[0;34m\u001b[0m\u001b[0;34m\u001b[0m\u001b[0m\n\u001b[0m\u001b[1;32m     61\u001b[0m \u001b[0;34m\u001b[0m\u001b[0m\n\u001b[1;32m     62\u001b[0m \u001b[0;34m\u001b[0m\u001b[0m\n",
      "\u001b[0;32m~/anaconda3/lib/python3.7/site-packages/requests/sessions.py\u001b[0m in \u001b[0;36mrequest\u001b[0;34m(self, method, url, params, data, headers, cookies, files, auth, timeout, allow_redirects, proxies, hooks, stream, verify, cert, json)\u001b[0m\n\u001b[1;32m    531\u001b[0m         }\n\u001b[1;32m    532\u001b[0m         \u001b[0msend_kwargs\u001b[0m\u001b[0;34m.\u001b[0m\u001b[0mupdate\u001b[0m\u001b[0;34m(\u001b[0m\u001b[0msettings\u001b[0m\u001b[0;34m)\u001b[0m\u001b[0;34m\u001b[0m\u001b[0;34m\u001b[0m\u001b[0m\n\u001b[0;32m--> 533\u001b[0;31m         \u001b[0mresp\u001b[0m \u001b[0;34m=\u001b[0m \u001b[0mself\u001b[0m\u001b[0;34m.\u001b[0m\u001b[0msend\u001b[0m\u001b[0;34m(\u001b[0m\u001b[0mprep\u001b[0m\u001b[0;34m,\u001b[0m \u001b[0;34m**\u001b[0m\u001b[0msend_kwargs\u001b[0m\u001b[0;34m)\u001b[0m\u001b[0;34m\u001b[0m\u001b[0;34m\u001b[0m\u001b[0m\n\u001b[0m\u001b[1;32m    534\u001b[0m \u001b[0;34m\u001b[0m\u001b[0m\n\u001b[1;32m    535\u001b[0m         \u001b[0;32mreturn\u001b[0m \u001b[0mresp\u001b[0m\u001b[0;34m\u001b[0m\u001b[0;34m\u001b[0m\u001b[0m\n",
      "\u001b[0;32m~/anaconda3/lib/python3.7/site-packages/requests/sessions.py\u001b[0m in \u001b[0;36msend\u001b[0;34m(self, request, **kwargs)\u001b[0m\n\u001b[1;32m    644\u001b[0m \u001b[0;34m\u001b[0m\u001b[0m\n\u001b[1;32m    645\u001b[0m         \u001b[0;31m# Send the request\u001b[0m\u001b[0;34m\u001b[0m\u001b[0;34m\u001b[0m\u001b[0;34m\u001b[0m\u001b[0m\n\u001b[0;32m--> 646\u001b[0;31m         \u001b[0mr\u001b[0m \u001b[0;34m=\u001b[0m \u001b[0madapter\u001b[0m\u001b[0;34m.\u001b[0m\u001b[0msend\u001b[0m\u001b[0;34m(\u001b[0m\u001b[0mrequest\u001b[0m\u001b[0;34m,\u001b[0m \u001b[0;34m**\u001b[0m\u001b[0mkwargs\u001b[0m\u001b[0;34m)\u001b[0m\u001b[0;34m\u001b[0m\u001b[0;34m\u001b[0m\u001b[0m\n\u001b[0m\u001b[1;32m    647\u001b[0m \u001b[0;34m\u001b[0m\u001b[0m\n\u001b[1;32m    648\u001b[0m         \u001b[0;31m# Total elapsed time of the request (approximately)\u001b[0m\u001b[0;34m\u001b[0m\u001b[0;34m\u001b[0m\u001b[0;34m\u001b[0m\u001b[0m\n",
      "\u001b[0;32m~/anaconda3/lib/python3.7/site-packages/requests/adapters.py\u001b[0m in \u001b[0;36msend\u001b[0;34m(self, request, stream, timeout, verify, cert, proxies)\u001b[0m\n\u001b[1;32m    514\u001b[0m                 \u001b[0;32mraise\u001b[0m \u001b[0mSSLError\u001b[0m\u001b[0;34m(\u001b[0m\u001b[0me\u001b[0m\u001b[0;34m,\u001b[0m \u001b[0mrequest\u001b[0m\u001b[0;34m=\u001b[0m\u001b[0mrequest\u001b[0m\u001b[0;34m)\u001b[0m\u001b[0;34m\u001b[0m\u001b[0;34m\u001b[0m\u001b[0m\n\u001b[1;32m    515\u001b[0m \u001b[0;34m\u001b[0m\u001b[0m\n\u001b[0;32m--> 516\u001b[0;31m             \u001b[0;32mraise\u001b[0m \u001b[0mConnectionError\u001b[0m\u001b[0;34m(\u001b[0m\u001b[0me\u001b[0m\u001b[0;34m,\u001b[0m \u001b[0mrequest\u001b[0m\u001b[0;34m=\u001b[0m\u001b[0mrequest\u001b[0m\u001b[0;34m)\u001b[0m\u001b[0;34m\u001b[0m\u001b[0;34m\u001b[0m\u001b[0m\n\u001b[0m\u001b[1;32m    517\u001b[0m \u001b[0;34m\u001b[0m\u001b[0m\n\u001b[1;32m    518\u001b[0m         \u001b[0;32mexcept\u001b[0m \u001b[0mClosedPoolError\u001b[0m \u001b[0;32mas\u001b[0m \u001b[0me\u001b[0m\u001b[0;34m:\u001b[0m\u001b[0;34m\u001b[0m\u001b[0;34m\u001b[0m\u001b[0m\n",
      "\u001b[0;31mConnectionError\u001b[0m: HTTPSConnectionPool(host='imgs.xkcd.com', port=443): Max retries exceeded with url: /comics/bad_opinions.png (Caused by NewConnectionError('<urllib3.connection.VerifiedHTTPSConnection object at 0x113a1fe48>: Failed to establish a new connection: [Errno 8] nodename nor servname provided, or not known'))"
     ]
    }
   ],
   "source": [
    "# for i in range(100):\n",
    "#     title = get_comic_title(browser)\n",
    "#     img = find_image(browser)\n",
    "#     filename = title.lower().replace(' ', '_') + '.png'\n",
    "#     print(filename)\n",
    "#     scrape_image(img, filename)\n",
    "#     get_prev(browser)\n",
    "#     time.sleep(3 + random.random()*10)"
   ]
  },
  {
   "cell_type": "code",
   "execution_count": 18,
   "metadata": {},
   "outputs": [],
   "source": []
  },
  {
   "cell_type": "code",
   "execution_count": null,
   "metadata": {},
   "outputs": [],
   "source": []
  },
  {
   "cell_type": "code",
   "execution_count": null,
   "metadata": {},
   "outputs": [],
   "source": []
  }
 ],
 "metadata": {
  "kernelspec": {
   "display_name": "Python 3",
   "language": "python",
   "name": "python3"
  },
  "language_info": {
   "codemirror_mode": {
    "name": "ipython",
    "version": 3
   },
   "file_extension": ".py",
   "mimetype": "text/x-python",
   "name": "python",
   "nbconvert_exporter": "python",
   "pygments_lexer": "ipython3",
   "version": "3.6.6"
  }
 },
 "nbformat": 4,
 "nbformat_minor": 2
}
