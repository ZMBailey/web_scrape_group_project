{
 "cells": [
  {
   "cell_type": "code",
   "execution_count": 34,
   "metadata": {},
   "outputs": [
    {
     "name": "stdout",
     "output_type": "stream",
     "text": [
      "The autoreload extension is already loaded. To reload it, use:\n",
      "  %reload_ext autoreload\n"
     ]
    }
   ],
   "source": [
    "%load_ext autoreload\n",
    "%autoreload 2"
   ]
  },
  {
   "cell_type": "code",
   "execution_count": 67,
   "metadata": {},
   "outputs": [],
   "source": [
    "import requests\n",
    "import random\n",
    "import time\n",
    "from selenium.webdriver import Firefox\n",
    "from scrape_functions import (\n",
    "    get_movie_scores,\n",
    "    get_all_titles\n",
    ")"
   ]
  },
  {
   "cell_type": "code",
   "execution_count": 68,
   "metadata": {},
   "outputs": [],
   "source": [
    "browser = Firefox()\n",
    "url = \"https://www.rottentomatoes.com/browse/in-theaters?minTomato=0&maxTomato=100&minPopcorn=0&maxPopcorn=100&genres=1;2;4;5;6;8;9;10;11;13;18;14&sortBy=popularity\"\n",
    "browser.get(url)"
   ]
  },
  {
   "cell_type": "code",
   "execution_count": 69,
   "metadata": {},
   "outputs": [],
   "source": [
    "show_more = browser.find_element_by_css_selector(\".btn-secondary-rt\")"
   ]
  },
  {
   "cell_type": "code",
   "execution_count": 70,
   "metadata": {},
   "outputs": [],
   "source": [
    "def show_more_click(browser):\n",
    "    if show_more.is_displayed: \n",
    "        show_more.click()\n",
    "    else:\n",
    "        pass\n",
    "    return None"
   ]
  },
  {
   "cell_type": "code",
   "execution_count": 71,
   "metadata": {},
   "outputs": [],
   "source": [
    "show_more_click(browser)"
   ]
  },
  {
   "cell_type": "code",
   "execution_count": 72,
   "metadata": {},
   "outputs": [],
   "source": [
    "movie_scores_list = get_movie_scores(browser)"
   ]
  },
  {
   "cell_type": "code",
   "execution_count": 73,
   "metadata": {},
   "outputs": [
    {
     "data": {
      "text/plain": [
       "' 31% 50%'"
      ]
     },
     "execution_count": 73,
     "metadata": {},
     "output_type": "execute_result"
    }
   ],
   "source": [
    "movie_scores_list[0].text"
   ]
  },
  {
   "cell_type": "code",
   "execution_count": 74,
   "metadata": {},
   "outputs": [],
   "source": [
    "scores=[]\n",
    "for movie in movie_scores_list:\n",
    "    one_score = movie.text\n",
    "    scores.append(one_score)"
   ]
  },
  {
   "cell_type": "code",
   "execution_count": 134,
   "metadata": {},
   "outputs": [],
   "source": [
    "scores_lean = [score.replace(' ','') for score in scores]"
   ]
  },
  {
   "cell_type": "code",
   "execution_count": 77,
   "metadata": {},
   "outputs": [],
   "source": [
    "scores_split = [score_lean.split('%') for score_lean in scores_lean]\n",
    "\n",
    "split_scores = [score_split.pop() for score_split in scores_split]"
   ]
  },
  {
   "cell_type": "code",
   "execution_count": 79,
   "metadata": {},
   "outputs": [],
   "source": [
    "critics_score = [score[0] for score in scores_split]\n",
    "audience_score = [score[1] for score in scores_split]"
   ]
  },
  {
   "cell_type": "code",
   "execution_count": 80,
   "metadata": {},
   "outputs": [],
   "source": [
    "all_titles = get_all_titles(browser)"
   ]
  },
  {
   "cell_type": "code",
   "execution_count": 82,
   "metadata": {},
   "outputs": [],
   "source": [
    "titles=[]\n",
    "for movie in all_titles:\n",
    "    one_title = movie.text\n",
    "    titles.append(one_title)"
   ]
  },
  {
   "cell_type": "code",
   "execution_count": 84,
   "metadata": {},
   "outputs": [],
   "source": [
    "import pandas as pd"
   ]
  },
  {
   "cell_type": "code",
   "execution_count": 85,
   "metadata": {},
   "outputs": [],
   "source": [
    "dictionary = {'title':titles, 'critics_score':critics_score, 'audience_score':audience_score}"
   ]
  },
  {
   "cell_type": "code",
   "execution_count": 99,
   "metadata": {},
   "outputs": [],
   "source": [
    "rt_df = pd.DataFrame(dictionary)"
   ]
  },
  {
   "cell_type": "code",
   "execution_count": 135,
   "metadata": {},
   "outputs": [],
   "source": [
    "rt_df = rt_df.drop('_id', axis=1)"
   ]
  },
  {
   "cell_type": "code",
   "execution_count": 87,
   "metadata": {},
   "outputs": [],
   "source": [
    "import pymongo"
   ]
  },
  {
   "cell_type": "code",
   "execution_count": 88,
   "metadata": {},
   "outputs": [],
   "source": [
    "mc = pymongo.MongoClient()"
   ]
  },
  {
   "cell_type": "code",
   "execution_count": 89,
   "metadata": {},
   "outputs": [],
   "source": [
    "db = mc['movie']"
   ]
  },
  {
   "cell_type": "code",
   "execution_count": 90,
   "metadata": {},
   "outputs": [],
   "source": [
    "rt_coll = db['rotten_tomatoes']"
   ]
  },
  {
   "cell_type": "code",
   "execution_count": 91,
   "metadata": {
    "scrolled": false
   },
   "outputs": [
    {
     "data": {
      "text/plain": [
       "<pymongo.results.InsertOneResult at 0x115aed708>"
      ]
     },
     "execution_count": 91,
     "metadata": {},
     "output_type": "execute_result"
    }
   ],
   "source": [
    "rt_coll.insert_one(dictionary)"
   ]
  },
  {
   "cell_type": "code",
   "execution_count": 92,
   "metadata": {},
   "outputs": [],
   "source": [
    "from fan_scrape_functions import (\n",
    "    get_theater_title\n",
    "    ,get_movie_titles\n",
    "    ,get_theater_ids)"
   ]
  },
  {
   "cell_type": "code",
   "execution_count": 93,
   "metadata": {},
   "outputs": [],
   "source": [
    "browser = Firefox()\n",
    "url = \"https://www.fandango.com/seattle_wa_movietimes\"\n",
    "browser.get(url)"
   ]
  },
  {
   "cell_type": "code",
   "execution_count": 94,
   "metadata": {},
   "outputs": [],
   "source": [
    "theaters = get_theater_ids(browser)\n",
    "\n",
    "dict_movies = get_movie_titles(browser,theaters)\n"
   ]
  },
  {
   "cell_type": "code",
   "execution_count": 97,
   "metadata": {},
   "outputs": [],
   "source": [
    "theater_listings = pd.DataFrame(dict_movies)"
   ]
  },
  {
   "cell_type": "code",
   "execution_count": 143,
   "metadata": {
    "scrolled": true
   },
   "outputs": [],
   "source": [
    "new_titles1 = theater_listings['title'].apply(lambda x: x.replace(' (2019)',''))   \n",
    "\n",
    "new_titles2 = new_titles1.apply(lambda x: x.replace(' 3D',''))   \n",
    "new_titles = new_titles2.apply(lambda x: x.title())\n",
    "theater_listings['title'] = new_titles\n"
   ]
  },
  {
   "cell_type": "code",
   "execution_count": 140,
   "metadata": {},
   "outputs": [],
   "source": [
    "final = pd.merge(theater_listings,\n",
    "                 rt_df,\n",
    "                 left_on='title',\n",
    "                 right_on='title', how='left'\n",
    "                )\n"
   ]
  },
  {
   "cell_type": "code",
   "execution_count": 153,
   "metadata": {},
   "outputs": [],
   "source": [
    "final['audience_score'] = final['audience_score'].astype(int, errors='ignore')"
   ]
  },
  {
   "cell_type": "code",
   "execution_count": 154,
   "metadata": {},
   "outputs": [],
   "source": [
    "final['critics_score'] = final['critics_score'].astype(int, errors='ignore')"
   ]
  },
  {
   "cell_type": "code",
   "execution_count": 156,
   "metadata": {},
   "outputs": [
    {
     "data": {
      "text/html": [
       "<div>\n",
       "<style scoped>\n",
       "    .dataframe tbody tr th:only-of-type {\n",
       "        vertical-align: middle;\n",
       "    }\n",
       "\n",
       "    .dataframe tbody tr th {\n",
       "        vertical-align: top;\n",
       "    }\n",
       "\n",
       "    .dataframe thead th {\n",
       "        text-align: right;\n",
       "    }\n",
       "</style>\n",
       "<table border=\"1\" class=\"dataframe\">\n",
       "  <thead>\n",
       "    <tr style=\"text-align: right;\">\n",
       "      <th></th>\n",
       "      <th>theater</th>\n",
       "      <th>times</th>\n",
       "      <th>title</th>\n",
       "      <th>critics_score</th>\n",
       "      <th>audience_score</th>\n",
       "    </tr>\n",
       "  </thead>\n",
       "  <tbody>\n",
       "    <tr>\n",
       "      <th>4</th>\n",
       "      <td>REGAL MERIDIAN &amp; 4DX</td>\n",
       "      <td>[11:00p]</td>\n",
       "      <td>Shazam!</td>\n",
       "      <td>90</td>\n",
       "      <td>87</td>\n",
       "    </tr>\n",
       "    <tr>\n",
       "      <th>11</th>\n",
       "      <td>AMC PACIFIC PLACE 11</td>\n",
       "      <td>[11:00a, 1:45p, 5:10p, 7:05p, 10:35p]</td>\n",
       "      <td>Shazam!</td>\n",
       "      <td>90</td>\n",
       "      <td>87</td>\n",
       "    </tr>\n",
       "    <tr>\n",
       "      <th>21</th>\n",
       "      <td>SIFF CINEMA UPTOWN</td>\n",
       "      <td>[4:00p, 6:30p, 9:00p]</td>\n",
       "      <td>Rafiki</td>\n",
       "      <td>91</td>\n",
       "      <td>83</td>\n",
       "    </tr>\n",
       "    <tr>\n",
       "      <th>1</th>\n",
       "      <td>REGAL MERIDIAN &amp; 4DX</td>\n",
       "      <td>[4:15p, 6:40p, 11:20p]</td>\n",
       "      <td>Breakthrough</td>\n",
       "      <td>65</td>\n",
       "      <td>78</td>\n",
       "    </tr>\n",
       "    <tr>\n",
       "      <th>8</th>\n",
       "      <td>AMC PACIFIC PLACE 11</td>\n",
       "      <td>[10:50a, 2:50p, 4:05p, 6:45p]</td>\n",
       "      <td>Breakthrough</td>\n",
       "      <td>65</td>\n",
       "      <td>78</td>\n",
       "    </tr>\n",
       "    <tr>\n",
       "      <th>10</th>\n",
       "      <td>AMC PACIFIC PLACE 11</td>\n",
       "      <td>[10:55a, 2:05p, 5:20p]</td>\n",
       "      <td>Little</td>\n",
       "      <td>46</td>\n",
       "      <td>74</td>\n",
       "    </tr>\n",
       "    <tr>\n",
       "      <th>5</th>\n",
       "      <td>REGAL MERIDIAN &amp; 4DX</td>\n",
       "      <td>[3:30p, 6:45p]</td>\n",
       "      <td>Us</td>\n",
       "      <td>94</td>\n",
       "      <td>66</td>\n",
       "    </tr>\n",
       "    <tr>\n",
       "      <th>13</th>\n",
       "      <td>AMC PACIFIC PLACE 11</td>\n",
       "      <td>[10:25a, 1:10p, 4:00p, 7:45p]</td>\n",
       "      <td>Us</td>\n",
       "      <td>94</td>\n",
       "      <td>66</td>\n",
       "    </tr>\n",
       "    <tr>\n",
       "      <th>6</th>\n",
       "      <td>REGAL MERIDIAN &amp; 4DX</td>\n",
       "      <td>[10:50p]</td>\n",
       "      <td>Captain Marvel</td>\n",
       "      <td>78</td>\n",
       "      <td>56</td>\n",
       "    </tr>\n",
       "    <tr>\n",
       "      <th>12</th>\n",
       "      <td>AMC PACIFIC PLACE 11</td>\n",
       "      <td>[10:05a, 1:05p, 4:10p, 7:25p, 10:30p]</td>\n",
       "      <td>Dumbo</td>\n",
       "      <td>47</td>\n",
       "      <td>55</td>\n",
       "    </tr>\n",
       "    <tr>\n",
       "      <th>0</th>\n",
       "      <td>REGAL MERIDIAN &amp; 4DX</td>\n",
       "      <td>[6:20p, 10:20p, 8:20p, 3:00p, 3:20p, 3:40p, 4:...</td>\n",
       "      <td>The Curse Of La Llorona</td>\n",
       "      <td>31</td>\n",
       "      <td>50</td>\n",
       "    </tr>\n",
       "    <tr>\n",
       "      <th>7</th>\n",
       "      <td>AMC PACIFIC PLACE 11</td>\n",
       "      <td>[10:15a, 12:00p, 4:20p, 6:30p, 9:10p, 10:20p, ...</td>\n",
       "      <td>The Curse Of La Llorona</td>\n",
       "      <td>31</td>\n",
       "      <td>50</td>\n",
       "    </tr>\n",
       "    <tr>\n",
       "      <th>20</th>\n",
       "      <td>SIFF CINEMA UPTOWN</td>\n",
       "      <td>[4:15p, 6:45p, 9:10p]</td>\n",
       "      <td>High Life</td>\n",
       "      <td>82</td>\n",
       "      <td>49</td>\n",
       "    </tr>\n",
       "    <tr>\n",
       "      <th>3</th>\n",
       "      <td>REGAL MERIDIAN &amp; 4DX</td>\n",
       "      <td>[10:10p]</td>\n",
       "      <td>Pet Sematary</td>\n",
       "      <td>58</td>\n",
       "      <td>40</td>\n",
       "    </tr>\n",
       "    <tr>\n",
       "      <th>2</th>\n",
       "      <td>REGAL MERIDIAN &amp; 4DX</td>\n",
       "      <td>[3:15p, 6:15p, 10:50p]</td>\n",
       "      <td>Kalank</td>\n",
       "      <td>38</td>\n",
       "      <td>37</td>\n",
       "    </tr>\n",
       "    <tr>\n",
       "      <th>9</th>\n",
       "      <td>AMC PACIFIC PLACE 11</td>\n",
       "      <td>[12:30p, 3:30p, 7:35p, 9:30p]</td>\n",
       "      <td>Penguins</td>\n",
       "      <td>NaN</td>\n",
       "      <td>NaN</td>\n",
       "    </tr>\n",
       "    <tr>\n",
       "      <th>14</th>\n",
       "      <td>CENTRAL CINEMA</td>\n",
       "      <td>[4:00p, 9:30p]</td>\n",
       "      <td>Back To The Future Part Ii</td>\n",
       "      <td>NaN</td>\n",
       "      <td>NaN</td>\n",
       "    </tr>\n",
       "    <tr>\n",
       "      <th>15</th>\n",
       "      <td>PACIFIC SCIENCE CENTER IMAX THEATERS</td>\n",
       "      <td>[3:30p, 10:30p, 11:45a, 7:00p]</td>\n",
       "      <td>Dream Big: Engineering Our World</td>\n",
       "      <td>NaN</td>\n",
       "      <td>NaN</td>\n",
       "    </tr>\n",
       "    <tr>\n",
       "      <th>16</th>\n",
       "      <td>PACIFIC SCIENCE CENTER IMAX THEATERS</td>\n",
       "      <td>[11:30a]</td>\n",
       "      <td>Flight Of The Butterflies</td>\n",
       "      <td>NaN</td>\n",
       "      <td>NaN</td>\n",
       "    </tr>\n",
       "    <tr>\n",
       "      <th>17</th>\n",
       "      <td>PACIFIC SCIENCE CENTER IMAX THEATERS</td>\n",
       "      <td>[10:15a]</td>\n",
       "      <td>Superpower Dogs</td>\n",
       "      <td>NaN</td>\n",
       "      <td>NaN</td>\n",
       "    </tr>\n",
       "    <tr>\n",
       "      <th>18</th>\n",
       "      <td>PACIFIC SCIENCE CENTER IMAX THEATERS</td>\n",
       "      <td>[10:30a]</td>\n",
       "      <td>Turtle Odyssey</td>\n",
       "      <td>NaN</td>\n",
       "      <td>NaN</td>\n",
       "    </tr>\n",
       "    <tr>\n",
       "      <th>19</th>\n",
       "      <td>PACIFIC SCIENCE CENTER IMAX THEATERS</td>\n",
       "      <td>[12:45p, 3:15p]</td>\n",
       "      <td>Volcanoes</td>\n",
       "      <td>NaN</td>\n",
       "      <td>NaN</td>\n",
       "    </tr>\n",
       "  </tbody>\n",
       "</table>\n",
       "</div>"
      ],
      "text/plain": [
       "                                 theater  \\\n",
       "4                   REGAL MERIDIAN & 4DX   \n",
       "11                  AMC PACIFIC PLACE 11   \n",
       "21                    SIFF CINEMA UPTOWN   \n",
       "1                   REGAL MERIDIAN & 4DX   \n",
       "8                   AMC PACIFIC PLACE 11   \n",
       "10                  AMC PACIFIC PLACE 11   \n",
       "5                   REGAL MERIDIAN & 4DX   \n",
       "13                  AMC PACIFIC PLACE 11   \n",
       "6                   REGAL MERIDIAN & 4DX   \n",
       "12                  AMC PACIFIC PLACE 11   \n",
       "0                   REGAL MERIDIAN & 4DX   \n",
       "7                   AMC PACIFIC PLACE 11   \n",
       "20                    SIFF CINEMA UPTOWN   \n",
       "3                   REGAL MERIDIAN & 4DX   \n",
       "2                   REGAL MERIDIAN & 4DX   \n",
       "9                   AMC PACIFIC PLACE 11   \n",
       "14                        CENTRAL CINEMA   \n",
       "15  PACIFIC SCIENCE CENTER IMAX THEATERS   \n",
       "16  PACIFIC SCIENCE CENTER IMAX THEATERS   \n",
       "17  PACIFIC SCIENCE CENTER IMAX THEATERS   \n",
       "18  PACIFIC SCIENCE CENTER IMAX THEATERS   \n",
       "19  PACIFIC SCIENCE CENTER IMAX THEATERS   \n",
       "\n",
       "                                                times  \\\n",
       "4                                            [11:00p]   \n",
       "11              [11:00a, 1:45p, 5:10p, 7:05p, 10:35p]   \n",
       "21                              [4:00p, 6:30p, 9:00p]   \n",
       "1                              [4:15p, 6:40p, 11:20p]   \n",
       "8                       [10:50a, 2:50p, 4:05p, 6:45p]   \n",
       "10                             [10:55a, 2:05p, 5:20p]   \n",
       "5                                      [3:30p, 6:45p]   \n",
       "13                      [10:25a, 1:10p, 4:00p, 7:45p]   \n",
       "6                                            [10:50p]   \n",
       "12              [10:05a, 1:05p, 4:10p, 7:25p, 10:30p]   \n",
       "0   [6:20p, 10:20p, 8:20p, 3:00p, 3:20p, 3:40p, 4:...   \n",
       "7   [10:15a, 12:00p, 4:20p, 6:30p, 9:10p, 10:20p, ...   \n",
       "20                              [4:15p, 6:45p, 9:10p]   \n",
       "3                                            [10:10p]   \n",
       "2                              [3:15p, 6:15p, 10:50p]   \n",
       "9                       [12:30p, 3:30p, 7:35p, 9:30p]   \n",
       "14                                     [4:00p, 9:30p]   \n",
       "15                     [3:30p, 10:30p, 11:45a, 7:00p]   \n",
       "16                                           [11:30a]   \n",
       "17                                           [10:15a]   \n",
       "18                                           [10:30a]   \n",
       "19                                    [12:45p, 3:15p]   \n",
       "\n",
       "                               title critics_score audience_score  \n",
       "4                            Shazam!            90             87  \n",
       "11                           Shazam!            90             87  \n",
       "21                            Rafiki            91             83  \n",
       "1                       Breakthrough            65             78  \n",
       "8                       Breakthrough            65             78  \n",
       "10                            Little            46             74  \n",
       "5                                 Us            94             66  \n",
       "13                                Us            94             66  \n",
       "6                     Captain Marvel            78             56  \n",
       "12                             Dumbo            47             55  \n",
       "0            The Curse Of La Llorona            31             50  \n",
       "7            The Curse Of La Llorona            31             50  \n",
       "20                         High Life            82             49  \n",
       "3                       Pet Sematary            58             40  \n",
       "2                             Kalank            38             37  \n",
       "9                           Penguins           NaN            NaN  \n",
       "14        Back To The Future Part Ii           NaN            NaN  \n",
       "15  Dream Big: Engineering Our World           NaN            NaN  \n",
       "16         Flight Of The Butterflies           NaN            NaN  \n",
       "17                   Superpower Dogs           NaN            NaN  \n",
       "18                    Turtle Odyssey           NaN            NaN  \n",
       "19                         Volcanoes           NaN            NaN  "
      ]
     },
     "execution_count": 156,
     "metadata": {},
     "output_type": "execute_result"
    }
   ],
   "source": [
    "final.sort_values('audience_score', ascending=False,)"
   ]
  }
 ],
 "metadata": {
  "kernelspec": {
   "display_name": "Python 3",
   "language": "python",
   "name": "python3"
  },
  "language_info": {
   "codemirror_mode": {
    "name": "ipython",
    "version": 3
   },
   "file_extension": ".py",
   "mimetype": "text/x-python",
   "name": "python",
   "nbconvert_exporter": "python",
   "pygments_lexer": "ipython3",
   "version": "3.7.1"
  }
 },
 "nbformat": 4,
 "nbformat_minor": 2
}
