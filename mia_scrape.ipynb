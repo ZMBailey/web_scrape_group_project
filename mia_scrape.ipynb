{
 "cells": [
  {
   "cell_type": "code",
   "execution_count": 1,
   "metadata": {},
   "outputs": [],
   "source": [
    "%load_ext autoreload\n",
    "%autoreload 2"
   ]
  },
  {
   "cell_type": "code",
   "execution_count": 2,
   "metadata": {},
   "outputs": [],
   "source": [
    "import requests\n",
    "import random\n",
    "import time\n",
    "from selenium.webdriver import Firefox\n",
    "from scrape_functions import (\n",
    "    get_movie_scores,\n",
    "    get_all_titles\n",
    ")"
   ]
  },
  {
   "cell_type": "code",
   "execution_count": 3,
   "metadata": {},
   "outputs": [],
   "source": [
    "browser = Firefox()\n",
    "url = \"https://www.rottentomatoes.com/browse/in-theaters?minTomato=0&maxTomato=100&minPopcorn=0&maxPopcorn=100&genres=1;2;4;5;6;8;9;10;11;13;18;14&sortBy=popularity\"\n",
    "browser.get(url)"
   ]
  },
  {
   "cell_type": "code",
   "execution_count": 4,
   "metadata": {},
   "outputs": [],
   "source": [
    "# def get_movie_scores(browser):\n",
    "#     \"\"\"Return all movie scores on the page\"\"\"\n",
    "#     sel = \"div.mb-movies div.mb-movie div.movie_info a div\"\n",
    "#     scores = browser.find_elements_by_css_selector(sel)\n",
    "#     return scores\n",
    "movie_scores_list = get_movie_scores(browser)"
   ]
  },
  {
   "cell_type": "code",
   "execution_count": 5,
   "metadata": {},
   "outputs": [
    {
     "data": {
      "text/plain": [
       "' 32% 50%'"
      ]
     },
     "execution_count": 5,
     "metadata": {},
     "output_type": "execute_result"
    }
   ],
   "source": [
    "movie_scores_list[0].text"
   ]
  },
  {
   "cell_type": "code",
   "execution_count": 6,
   "metadata": {},
   "outputs": [],
   "source": [
    "scores=[]\n",
    "for movie in movie_scores_list:\n",
    "    one_score = movie.text\n",
    "    scores.append(one_score)"
   ]
  },
  {
   "cell_type": "code",
   "execution_count": 7,
   "metadata": {},
   "outputs": [
    {
     "data": {
      "text/plain": [
       "[' 32% 50%',\n",
       " ' 90% 87%',\n",
       " ' 64% 78%',\n",
       " ' 78% 56%',\n",
       " ' 46% 74%',\n",
       " ' 47% 55%',\n",
       " ' 58% 40%',\n",
       " ' 94% 66%',\n",
       " ' 89% 70%',\n",
       " ' 14% 60%',\n",
       " ' 20% 78%',\n",
       " ' 91% 75%',\n",
       " ' 38% 37%',\n",
       " ' 91% 87%',\n",
       " ' 99% 90%',\n",
       " ' 52% 76%',\n",
       " ' 48% 92%',\n",
       " ' 55% 79%',\n",
       " ' 94% 75%',\n",
       " ' 75% 84%',\n",
       " ' 33% 38%',\n",
       " ' 82% 49%',\n",
       " ' 71% 81%',\n",
       " ' 13% 25%',\n",
       " ' 86% 71%',\n",
       " ' 98% 90%',\n",
       " ' 69% 50%',\n",
       " ' 14% 23%',\n",
       " ' 39% 93%',\n",
       " ' 41% 84%',\n",
       " ' 60% 94%',\n",
       " ' 90% 75%']"
      ]
     },
     "execution_count": 7,
     "metadata": {},
     "output_type": "execute_result"
    }
   ],
   "source": [
    "scores"
   ]
  },
  {
   "cell_type": "code",
   "execution_count": 8,
   "metadata": {},
   "outputs": [
    {
     "data": {
      "text/plain": [
       "['32%50%',\n",
       " '90%87%',\n",
       " '64%78%',\n",
       " '78%56%',\n",
       " '46%74%',\n",
       " '47%55%',\n",
       " '58%40%',\n",
       " '94%66%',\n",
       " '89%70%',\n",
       " '14%60%',\n",
       " '20%78%',\n",
       " '91%75%',\n",
       " '38%37%',\n",
       " '91%87%',\n",
       " '99%90%',\n",
       " '52%76%',\n",
       " '48%92%',\n",
       " '55%79%',\n",
       " '94%75%',\n",
       " '75%84%',\n",
       " '33%38%',\n",
       " '82%49%',\n",
       " '71%81%',\n",
       " '13%25%',\n",
       " '86%71%',\n",
       " '98%90%',\n",
       " '69%50%',\n",
       " '14%23%',\n",
       " '39%93%',\n",
       " '41%84%',\n",
       " '60%94%',\n",
       " '90%75%']"
      ]
     },
     "execution_count": 8,
     "metadata": {},
     "output_type": "execute_result"
    }
   ],
   "source": [
    "scores_lean = [score.replace(' ','') for score in scores]\n",
    "scores_lean"
   ]
  },
  {
   "cell_type": "code",
   "execution_count": null,
   "metadata": {},
   "outputs": [],
   "source": [
    "scores_split = [score_lean.split('%') for score_lean in scores_lean]\n",
    "\n",
    "split_scores = [score_split.pop() for score_split in scores_split]"
   ]
  },
  {
   "cell_type": "code",
   "execution_count": 11,
   "metadata": {},
   "outputs": [
    {
     "data": {
      "text/plain": [
       "[['32', '50'],\n",
       " ['90', '87'],\n",
       " ['64', '78'],\n",
       " ['78', '56'],\n",
       " ['46', '74'],\n",
       " ['47', '55'],\n",
       " ['58', '40'],\n",
       " ['94', '66'],\n",
       " ['89', '70'],\n",
       " ['14', '60'],\n",
       " ['20', '78'],\n",
       " ['91', '75'],\n",
       " ['38', '37'],\n",
       " ['91', '87'],\n",
       " ['99', '90'],\n",
       " ['52', '76'],\n",
       " ['48', '92'],\n",
       " ['55', '79'],\n",
       " ['94', '75'],\n",
       " ['75', '84'],\n",
       " ['33', '38'],\n",
       " ['82', '49'],\n",
       " ['71', '81'],\n",
       " ['13', '25'],\n",
       " ['86', '71'],\n",
       " ['98', '90'],\n",
       " ['69', '50'],\n",
       " ['14', '23'],\n",
       " ['39', '93'],\n",
       " ['41', '84'],\n",
       " ['60', '94'],\n",
       " ['90', '75']]"
      ]
     },
     "execution_count": 11,
     "metadata": {},
     "output_type": "execute_result"
    }
   ],
   "source": [
    "scores_split"
   ]
  },
  {
   "cell_type": "code",
   "execution_count": 12,
   "metadata": {},
   "outputs": [],
   "source": [
    "critics_score = [score[0] for score in scores_split]\n",
    "audience_score = [score[1] for score in scores_split]"
   ]
  },
  {
   "cell_type": "code",
   "execution_count": 13,
   "metadata": {},
   "outputs": [],
   "source": [
    "all_titles = get_all_titles(browser)"
   ]
  },
  {
   "cell_type": "code",
   "execution_count": 14,
   "metadata": {},
   "outputs": [
    {
     "data": {
      "text/plain": [
       "[<selenium.webdriver.firefox.webelement.FirefoxWebElement (session=\"315b42f1-dd06-f44c-9fa5-828658f5bbc5\", element=\"afcceabf-ea5e-1f43-adbc-da4ec8fdb741\")>,\n",
       " <selenium.webdriver.firefox.webelement.FirefoxWebElement (session=\"315b42f1-dd06-f44c-9fa5-828658f5bbc5\", element=\"077286b5-35a5-ca49-8785-a233209fb65c\")>,\n",
       " <selenium.webdriver.firefox.webelement.FirefoxWebElement (session=\"315b42f1-dd06-f44c-9fa5-828658f5bbc5\", element=\"b61ec733-9458-1a49-bd9c-3029b337398c\")>,\n",
       " <selenium.webdriver.firefox.webelement.FirefoxWebElement (session=\"315b42f1-dd06-f44c-9fa5-828658f5bbc5\", element=\"635e9150-c079-aa48-a86e-fcaa5effff25\")>,\n",
       " <selenium.webdriver.firefox.webelement.FirefoxWebElement (session=\"315b42f1-dd06-f44c-9fa5-828658f5bbc5\", element=\"bf56dc98-edff-ef44-a51f-d67c8de5ce32\")>,\n",
       " <selenium.webdriver.firefox.webelement.FirefoxWebElement (session=\"315b42f1-dd06-f44c-9fa5-828658f5bbc5\", element=\"d0ba12f7-a17c-934e-8b2e-3e73774d866d\")>,\n",
       " <selenium.webdriver.firefox.webelement.FirefoxWebElement (session=\"315b42f1-dd06-f44c-9fa5-828658f5bbc5\", element=\"5726217e-ec1d-ef4a-8396-830f92e657b7\")>,\n",
       " <selenium.webdriver.firefox.webelement.FirefoxWebElement (session=\"315b42f1-dd06-f44c-9fa5-828658f5bbc5\", element=\"fb1f93a3-09cc-d640-a3d8-a6b2455f8de4\")>,\n",
       " <selenium.webdriver.firefox.webelement.FirefoxWebElement (session=\"315b42f1-dd06-f44c-9fa5-828658f5bbc5\", element=\"a2b45846-6cf9-4f44-9b78-aabd6717b996\")>,\n",
       " <selenium.webdriver.firefox.webelement.FirefoxWebElement (session=\"315b42f1-dd06-f44c-9fa5-828658f5bbc5\", element=\"0cd0ad19-1f0e-6243-b3f8-1ab167f5516a\")>,\n",
       " <selenium.webdriver.firefox.webelement.FirefoxWebElement (session=\"315b42f1-dd06-f44c-9fa5-828658f5bbc5\", element=\"4279b7d3-29d6-234f-ae4a-958a9f9047ad\")>,\n",
       " <selenium.webdriver.firefox.webelement.FirefoxWebElement (session=\"315b42f1-dd06-f44c-9fa5-828658f5bbc5\", element=\"cb587d90-0855-fb44-9eed-5feaf2f66b79\")>,\n",
       " <selenium.webdriver.firefox.webelement.FirefoxWebElement (session=\"315b42f1-dd06-f44c-9fa5-828658f5bbc5\", element=\"a2f7bbdc-bd2d-d14b-9a0e-17d05454b142\")>,\n",
       " <selenium.webdriver.firefox.webelement.FirefoxWebElement (session=\"315b42f1-dd06-f44c-9fa5-828658f5bbc5\", element=\"5affac3b-fdfd-c14f-9142-56977e02856c\")>,\n",
       " <selenium.webdriver.firefox.webelement.FirefoxWebElement (session=\"315b42f1-dd06-f44c-9fa5-828658f5bbc5\", element=\"c9dbca4e-a247-6743-8c90-23841537383d\")>,\n",
       " <selenium.webdriver.firefox.webelement.FirefoxWebElement (session=\"315b42f1-dd06-f44c-9fa5-828658f5bbc5\", element=\"6766e14d-d53b-1742-af95-e22179a43840\")>,\n",
       " <selenium.webdriver.firefox.webelement.FirefoxWebElement (session=\"315b42f1-dd06-f44c-9fa5-828658f5bbc5\", element=\"3b1c6db8-5ab4-c345-b10a-b2b174e2d993\")>,\n",
       " <selenium.webdriver.firefox.webelement.FirefoxWebElement (session=\"315b42f1-dd06-f44c-9fa5-828658f5bbc5\", element=\"301bb049-b416-9f4c-b9d5-b0c8f09779a7\")>,\n",
       " <selenium.webdriver.firefox.webelement.FirefoxWebElement (session=\"315b42f1-dd06-f44c-9fa5-828658f5bbc5\", element=\"0c6e7507-0e8c-bf41-a98c-b69c2875c46e\")>,\n",
       " <selenium.webdriver.firefox.webelement.FirefoxWebElement (session=\"315b42f1-dd06-f44c-9fa5-828658f5bbc5\", element=\"ab2d9ead-4108-f143-afad-da9e419e51fe\")>,\n",
       " <selenium.webdriver.firefox.webelement.FirefoxWebElement (session=\"315b42f1-dd06-f44c-9fa5-828658f5bbc5\", element=\"c9fd1c51-d061-a545-851e-c10f04a8bdae\")>,\n",
       " <selenium.webdriver.firefox.webelement.FirefoxWebElement (session=\"315b42f1-dd06-f44c-9fa5-828658f5bbc5\", element=\"0a238c7b-0ee5-f44e-b539-38fa1d625407\")>,\n",
       " <selenium.webdriver.firefox.webelement.FirefoxWebElement (session=\"315b42f1-dd06-f44c-9fa5-828658f5bbc5\", element=\"9f68ec5c-bfe6-264e-aab7-b83dfc31f77b\")>,\n",
       " <selenium.webdriver.firefox.webelement.FirefoxWebElement (session=\"315b42f1-dd06-f44c-9fa5-828658f5bbc5\", element=\"86d0897e-04c0-d946-8684-bbd104047754\")>,\n",
       " <selenium.webdriver.firefox.webelement.FirefoxWebElement (session=\"315b42f1-dd06-f44c-9fa5-828658f5bbc5\", element=\"16623684-d06e-8a4f-b7b1-f80f8304f02a\")>,\n",
       " <selenium.webdriver.firefox.webelement.FirefoxWebElement (session=\"315b42f1-dd06-f44c-9fa5-828658f5bbc5\", element=\"b82a9427-1ea4-a043-a9ac-1a9a4557dcd2\")>,\n",
       " <selenium.webdriver.firefox.webelement.FirefoxWebElement (session=\"315b42f1-dd06-f44c-9fa5-828658f5bbc5\", element=\"27438278-c2d6-f24d-bab8-c01deb5fdfd9\")>,\n",
       " <selenium.webdriver.firefox.webelement.FirefoxWebElement (session=\"315b42f1-dd06-f44c-9fa5-828658f5bbc5\", element=\"bf3a5eb0-2795-4d4e-87c2-b57a7711b945\")>,\n",
       " <selenium.webdriver.firefox.webelement.FirefoxWebElement (session=\"315b42f1-dd06-f44c-9fa5-828658f5bbc5\", element=\"93333fc0-15fd-a940-881c-1efed58f7e10\")>,\n",
       " <selenium.webdriver.firefox.webelement.FirefoxWebElement (session=\"315b42f1-dd06-f44c-9fa5-828658f5bbc5\", element=\"062dbb71-3233-544d-b735-ec885d97b248\")>,\n",
       " <selenium.webdriver.firefox.webelement.FirefoxWebElement (session=\"315b42f1-dd06-f44c-9fa5-828658f5bbc5\", element=\"ef766bb5-acdd-c142-8e76-a43908bf7f65\")>,\n",
       " <selenium.webdriver.firefox.webelement.FirefoxWebElement (session=\"315b42f1-dd06-f44c-9fa5-828658f5bbc5\", element=\"35203dba-17fd-554b-876d-dda769664bd2\")>]"
      ]
     },
     "execution_count": 14,
     "metadata": {},
     "output_type": "execute_result"
    }
   ],
   "source": [
    "all_titles"
   ]
  },
  {
   "cell_type": "code",
   "execution_count": 15,
   "metadata": {},
   "outputs": [],
   "source": [
    "titles=[]\n",
    "for movie in all_titles:\n",
    "    one_title = movie.text\n",
    "    titles.append(one_title)"
   ]
  },
  {
   "cell_type": "code",
   "execution_count": 16,
   "metadata": {
    "scrolled": true
   },
   "outputs": [
    {
     "data": {
      "text/plain": [
       "['The Curse Of La Llorona',\n",
       " 'Shazam!',\n",
       " 'Breakthrough',\n",
       " 'Captain Marvel',\n",
       " 'Little',\n",
       " 'Dumbo',\n",
       " 'Pet Sematary',\n",
       " 'Us',\n",
       " 'Missing Link',\n",
       " 'Hellboy',\n",
       " 'After',\n",
       " 'Disneynature: Penguins',\n",
       " 'Kalank',\n",
       " 'How To Train Your Dragon: The Hidden World',\n",
       " 'Amazing Grace',\n",
       " 'The Best Of Enemies',\n",
       " 'Unplanned',\n",
       " 'Five Feet Apart',\n",
       " 'The Mustang',\n",
       " 'Hotel Mumbai',\n",
       " 'Wonder Park',\n",
       " 'High Life',\n",
       " 'Teen Spirit',\n",
       " \"Tyler Perry's A Madea Family Funeral\",\n",
       " 'The LEGO Movie 2: The Second Part',\n",
       " 'Apollo 11',\n",
       " \"Isn't It Romantic\",\n",
       " 'No Manches Frida 2',\n",
       " 'The Chaperone',\n",
       " 'The Upside',\n",
       " 'Alita: Battle Angel',\n",
       " 'Wild Nights With Emily']"
      ]
     },
     "execution_count": 16,
     "metadata": {},
     "output_type": "execute_result"
    }
   ],
   "source": [
    "titles"
   ]
  },
  {
   "cell_type": "code",
   "execution_count": 17,
   "metadata": {},
   "outputs": [],
   "source": [
    "import pandas as pd"
   ]
  },
  {
   "cell_type": "code",
   "execution_count": 18,
   "metadata": {},
   "outputs": [],
   "source": [
    "dictionary = {'title':titles, 'critics_score':critics_score, 'audience_score':audience_score}"
   ]
  },
  {
   "cell_type": "code",
   "execution_count": 19,
   "metadata": {},
   "outputs": [
    {
     "data": {
      "text/html": [
       "<div>\n",
       "<style scoped>\n",
       "    .dataframe tbody tr th:only-of-type {\n",
       "        vertical-align: middle;\n",
       "    }\n",
       "\n",
       "    .dataframe tbody tr th {\n",
       "        vertical-align: top;\n",
       "    }\n",
       "\n",
       "    .dataframe thead th {\n",
       "        text-align: right;\n",
       "    }\n",
       "</style>\n",
       "<table border=\"1\" class=\"dataframe\">\n",
       "  <thead>\n",
       "    <tr style=\"text-align: right;\">\n",
       "      <th></th>\n",
       "      <th>title</th>\n",
       "      <th>critics_score</th>\n",
       "      <th>audience_score</th>\n",
       "    </tr>\n",
       "  </thead>\n",
       "  <tbody>\n",
       "    <tr>\n",
       "      <th>0</th>\n",
       "      <td>The Curse Of La Llorona</td>\n",
       "      <td>32</td>\n",
       "      <td>50</td>\n",
       "    </tr>\n",
       "    <tr>\n",
       "      <th>1</th>\n",
       "      <td>Shazam!</td>\n",
       "      <td>90</td>\n",
       "      <td>87</td>\n",
       "    </tr>\n",
       "    <tr>\n",
       "      <th>2</th>\n",
       "      <td>Breakthrough</td>\n",
       "      <td>64</td>\n",
       "      <td>78</td>\n",
       "    </tr>\n",
       "    <tr>\n",
       "      <th>3</th>\n",
       "      <td>Captain Marvel</td>\n",
       "      <td>78</td>\n",
       "      <td>56</td>\n",
       "    </tr>\n",
       "    <tr>\n",
       "      <th>4</th>\n",
       "      <td>Little</td>\n",
       "      <td>46</td>\n",
       "      <td>74</td>\n",
       "    </tr>\n",
       "    <tr>\n",
       "      <th>5</th>\n",
       "      <td>Dumbo</td>\n",
       "      <td>47</td>\n",
       "      <td>55</td>\n",
       "    </tr>\n",
       "    <tr>\n",
       "      <th>6</th>\n",
       "      <td>Pet Sematary</td>\n",
       "      <td>58</td>\n",
       "      <td>40</td>\n",
       "    </tr>\n",
       "    <tr>\n",
       "      <th>7</th>\n",
       "      <td>Us</td>\n",
       "      <td>94</td>\n",
       "      <td>66</td>\n",
       "    </tr>\n",
       "    <tr>\n",
       "      <th>8</th>\n",
       "      <td>Missing Link</td>\n",
       "      <td>89</td>\n",
       "      <td>70</td>\n",
       "    </tr>\n",
       "    <tr>\n",
       "      <th>9</th>\n",
       "      <td>Hellboy</td>\n",
       "      <td>14</td>\n",
       "      <td>60</td>\n",
       "    </tr>\n",
       "    <tr>\n",
       "      <th>10</th>\n",
       "      <td>After</td>\n",
       "      <td>20</td>\n",
       "      <td>78</td>\n",
       "    </tr>\n",
       "    <tr>\n",
       "      <th>11</th>\n",
       "      <td>Disneynature: Penguins</td>\n",
       "      <td>91</td>\n",
       "      <td>75</td>\n",
       "    </tr>\n",
       "    <tr>\n",
       "      <th>12</th>\n",
       "      <td>Kalank</td>\n",
       "      <td>38</td>\n",
       "      <td>37</td>\n",
       "    </tr>\n",
       "    <tr>\n",
       "      <th>13</th>\n",
       "      <td>How To Train Your Dragon: The Hidden World</td>\n",
       "      <td>91</td>\n",
       "      <td>87</td>\n",
       "    </tr>\n",
       "    <tr>\n",
       "      <th>14</th>\n",
       "      <td>Amazing Grace</td>\n",
       "      <td>99</td>\n",
       "      <td>90</td>\n",
       "    </tr>\n",
       "    <tr>\n",
       "      <th>15</th>\n",
       "      <td>The Best Of Enemies</td>\n",
       "      <td>52</td>\n",
       "      <td>76</td>\n",
       "    </tr>\n",
       "    <tr>\n",
       "      <th>16</th>\n",
       "      <td>Unplanned</td>\n",
       "      <td>48</td>\n",
       "      <td>92</td>\n",
       "    </tr>\n",
       "    <tr>\n",
       "      <th>17</th>\n",
       "      <td>Five Feet Apart</td>\n",
       "      <td>55</td>\n",
       "      <td>79</td>\n",
       "    </tr>\n",
       "    <tr>\n",
       "      <th>18</th>\n",
       "      <td>The Mustang</td>\n",
       "      <td>94</td>\n",
       "      <td>75</td>\n",
       "    </tr>\n",
       "    <tr>\n",
       "      <th>19</th>\n",
       "      <td>Hotel Mumbai</td>\n",
       "      <td>75</td>\n",
       "      <td>84</td>\n",
       "    </tr>\n",
       "    <tr>\n",
       "      <th>20</th>\n",
       "      <td>Wonder Park</td>\n",
       "      <td>33</td>\n",
       "      <td>38</td>\n",
       "    </tr>\n",
       "    <tr>\n",
       "      <th>21</th>\n",
       "      <td>High Life</td>\n",
       "      <td>82</td>\n",
       "      <td>49</td>\n",
       "    </tr>\n",
       "    <tr>\n",
       "      <th>22</th>\n",
       "      <td>Teen Spirit</td>\n",
       "      <td>71</td>\n",
       "      <td>81</td>\n",
       "    </tr>\n",
       "    <tr>\n",
       "      <th>23</th>\n",
       "      <td>Tyler Perry's A Madea Family Funeral</td>\n",
       "      <td>13</td>\n",
       "      <td>25</td>\n",
       "    </tr>\n",
       "    <tr>\n",
       "      <th>24</th>\n",
       "      <td>The LEGO Movie 2: The Second Part</td>\n",
       "      <td>86</td>\n",
       "      <td>71</td>\n",
       "    </tr>\n",
       "    <tr>\n",
       "      <th>25</th>\n",
       "      <td>Apollo 11</td>\n",
       "      <td>98</td>\n",
       "      <td>90</td>\n",
       "    </tr>\n",
       "    <tr>\n",
       "      <th>26</th>\n",
       "      <td>Isn't It Romantic</td>\n",
       "      <td>69</td>\n",
       "      <td>50</td>\n",
       "    </tr>\n",
       "    <tr>\n",
       "      <th>27</th>\n",
       "      <td>No Manches Frida 2</td>\n",
       "      <td>14</td>\n",
       "      <td>23</td>\n",
       "    </tr>\n",
       "    <tr>\n",
       "      <th>28</th>\n",
       "      <td>The Chaperone</td>\n",
       "      <td>39</td>\n",
       "      <td>93</td>\n",
       "    </tr>\n",
       "    <tr>\n",
       "      <th>29</th>\n",
       "      <td>The Upside</td>\n",
       "      <td>41</td>\n",
       "      <td>84</td>\n",
       "    </tr>\n",
       "    <tr>\n",
       "      <th>30</th>\n",
       "      <td>Alita: Battle Angel</td>\n",
       "      <td>60</td>\n",
       "      <td>94</td>\n",
       "    </tr>\n",
       "    <tr>\n",
       "      <th>31</th>\n",
       "      <td>Wild Nights With Emily</td>\n",
       "      <td>90</td>\n",
       "      <td>75</td>\n",
       "    </tr>\n",
       "  </tbody>\n",
       "</table>\n",
       "</div>"
      ],
      "text/plain": [
       "                                         title critics_score audience_score\n",
       "0                      The Curse Of La Llorona            32             50\n",
       "1                                      Shazam!            90             87\n",
       "2                                 Breakthrough            64             78\n",
       "3                               Captain Marvel            78             56\n",
       "4                                       Little            46             74\n",
       "5                                        Dumbo            47             55\n",
       "6                                 Pet Sematary            58             40\n",
       "7                                           Us            94             66\n",
       "8                                 Missing Link            89             70\n",
       "9                                      Hellboy            14             60\n",
       "10                                       After            20             78\n",
       "11                      Disneynature: Penguins            91             75\n",
       "12                                      Kalank            38             37\n",
       "13  How To Train Your Dragon: The Hidden World            91             87\n",
       "14                               Amazing Grace            99             90\n",
       "15                         The Best Of Enemies            52             76\n",
       "16                                   Unplanned            48             92\n",
       "17                             Five Feet Apart            55             79\n",
       "18                                 The Mustang            94             75\n",
       "19                                Hotel Mumbai            75             84\n",
       "20                                 Wonder Park            33             38\n",
       "21                                   High Life            82             49\n",
       "22                                 Teen Spirit            71             81\n",
       "23        Tyler Perry's A Madea Family Funeral            13             25\n",
       "24           The LEGO Movie 2: The Second Part            86             71\n",
       "25                                   Apollo 11            98             90\n",
       "26                           Isn't It Romantic            69             50\n",
       "27                          No Manches Frida 2            14             23\n",
       "28                               The Chaperone            39             93\n",
       "29                                  The Upside            41             84\n",
       "30                         Alita: Battle Angel            60             94\n",
       "31                      Wild Nights With Emily            90             75"
      ]
     },
     "execution_count": 19,
     "metadata": {},
     "output_type": "execute_result"
    }
   ],
   "source": [
    "rt_df = pd.DataFrame(dictionary)\n",
    "rt_df"
   ]
  },
  {
   "cell_type": "code",
   "execution_count": 20,
   "metadata": {},
   "outputs": [],
   "source": [
    "import pymongo"
   ]
  },
  {
   "cell_type": "code",
   "execution_count": 21,
   "metadata": {},
   "outputs": [],
   "source": [
    "mc = pymongo.MongoClient()"
   ]
  },
  {
   "cell_type": "code",
   "execution_count": 22,
   "metadata": {},
   "outputs": [],
   "source": [
    "db = mc['movie']"
   ]
  },
  {
   "cell_type": "code",
   "execution_count": 23,
   "metadata": {},
   "outputs": [],
   "source": [
    "rt_coll = db['rotten_tomatoes']"
   ]
  },
  {
   "cell_type": "code",
   "execution_count": 24,
   "metadata": {},
   "outputs": [
    {
     "data": {
      "text/plain": [
       "<pymongo.results.InsertOneResult at 0x1179e4248>"
      ]
     },
     "execution_count": 24,
     "metadata": {},
     "output_type": "execute_result"
    }
   ],
   "source": [
    "rt_coll.insert_one(dictionary)"
   ]
  },
  {
   "cell_type": "code",
   "execution_count": null,
   "metadata": {},
   "outputs": [],
   "source": []
  }
 ],
 "metadata": {
  "kernelspec": {
   "display_name": "Python 3",
   "language": "python",
   "name": "python3"
  },
  "language_info": {
   "codemirror_mode": {
    "name": "ipython",
    "version": 3
   },
   "file_extension": ".py",
   "mimetype": "text/x-python",
   "name": "python",
   "nbconvert_exporter": "python",
   "pygments_lexer": "ipython3",
   "version": "3.6.6"
  }
 },
 "nbformat": 4,
 "nbformat_minor": 2
}
