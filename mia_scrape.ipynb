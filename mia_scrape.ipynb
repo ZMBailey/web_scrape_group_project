{
 "cells": [
  {
   "cell_type": "code",
   "execution_count": 1,
   "metadata": {},
   "outputs": [],
   "source": [
    "%load_ext autoreload\n",
    "%autoreload 2"
   ]
  },
  {
   "cell_type": "code",
   "execution_count": 3,
   "metadata": {},
   "outputs": [],
   "source": [
    "import requests\n",
    "import random\n",
    "import time\n",
    "from selenium.webdriver import Firefox"
   ]
  },
  {
   "cell_type": "code",
   "execution_count": 5,
   "metadata": {},
   "outputs": [],
   "source": [
    "browser = Firefox()\n",
    "url = \"https://www.rottentomatoes.com/browse/in-theaters?minTomato=0&maxTomato=100&minPopcorn=0&maxPopcorn=100&genres=1;2;4;5;6;8;9;10;11;13;18;14&sortBy=popularity\"\n",
    "browser.get(url)"
   ]
  },
  {
   "cell_type": "code",
   "execution_count": 114,
   "metadata": {},
   "outputs": [],
   "source": [
    "# def get_movie_scores(browser):\n",
    "#     \"\"\"Return one movie's score\"\"\"\n",
    "#     sel = \"div.mb-movies div.mb-movie div.movie_info a div\"\n",
    "#     scores = browser.find_element_by_css_selector(sel)\n",
    "#     return scores.text"
   ]
  },
  {
   "cell_type": "code",
   "execution_count": 115,
   "metadata": {
    "scrolled": true
   },
   "outputs": [],
   "source": [
    "# get_movie_scores(browser)\n",
    "    "
   ]
  },
  {
   "cell_type": "code",
   "execution_count": 116,
   "metadata": {},
   "outputs": [],
   "source": [
    "def get_movie_scores(browser):\n",
    "    \"\"\"Return all movie scores on the page\"\"\"\n",
    "    sel = \"div.mb-movies div.mb-movie div.movie_info a div\"\n",
    "    scores = browser.find_elements_by_css_selector(sel)\n",
    "    return scores\n",
    "movie_scores_list = get_movie_scores(browser)"
   ]
  },
  {
   "cell_type": "code",
   "execution_count": 117,
   "metadata": {},
   "outputs": [
    {
     "data": {
      "text/plain": [
       "' 32% 50%'"
      ]
     },
     "execution_count": 117,
     "metadata": {},
     "output_type": "execute_result"
    }
   ],
   "source": [
    "movie_scores_list[0].text"
   ]
  },
  {
   "cell_type": "code",
   "execution_count": 118,
   "metadata": {},
   "outputs": [],
   "source": [
    "scores=[]\n",
    "for movie in movie_scores_list:\n",
    "    one_score = movie.text\n",
    "    scores.append(one_score)"
   ]
  },
  {
   "cell_type": "code",
   "execution_count": 119,
   "metadata": {},
   "outputs": [
    {
     "data": {
      "text/plain": [
       "[' 32% 50%',\n",
       " ' 90% 87%',\n",
       " ' 64% 78%',\n",
       " ' 78% 56%',\n",
       " ' 46% 74%',\n",
       " ' 47% 55%',\n",
       " ' 58% 40%',\n",
       " ' 94% 66%',\n",
       " ' 89% 70%',\n",
       " ' 14% 60%',\n",
       " ' 20% 78%',\n",
       " ' 91% 76%',\n",
       " ' 38% 37%',\n",
       " ' 91% 87%',\n",
       " ' 99% 90%',\n",
       " ' 52% 76%',\n",
       " ' 48% 92%',\n",
       " ' 55% 79%',\n",
       " ' 94% 75%',\n",
       " ' 75% 84%',\n",
       " ' 33% 38%',\n",
       " ' 82% 49%',\n",
       " ' 71% 81%',\n",
       " ' 13% 25%',\n",
       " ' 86% 71%',\n",
       " ' 98% 90%',\n",
       " ' 69% 50%',\n",
       " ' 14% 23%',\n",
       " ' 39% 93%',\n",
       " ' 41% 84%',\n",
       " ' 60% 94%',\n",
       " ' 89% 75%']"
      ]
     },
     "execution_count": 119,
     "metadata": {},
     "output_type": "execute_result"
    }
   ],
   "source": [
    "scores"
   ]
  },
  {
   "cell_type": "code",
   "execution_count": 100,
   "metadata": {},
   "outputs": [
    {
     "data": {
      "text/plain": [
       "['32%50%',\n",
       " '90%87%',\n",
       " '64%78%',\n",
       " '78%56%',\n",
       " '46%74%',\n",
       " '47%55%',\n",
       " '58%40%',\n",
       " '94%66%',\n",
       " '89%70%',\n",
       " '14%60%',\n",
       " '20%78%',\n",
       " '91%76%',\n",
       " '38%37%',\n",
       " '91%87%',\n",
       " '99%90%',\n",
       " '52%76%',\n",
       " '48%92%',\n",
       " '55%79%',\n",
       " '94%75%',\n",
       " '75%84%',\n",
       " '33%38%',\n",
       " '82%49%',\n",
       " '71%81%',\n",
       " '13%25%',\n",
       " '86%71%',\n",
       " '98%90%',\n",
       " '69%50%',\n",
       " '14%23%',\n",
       " '39%93%',\n",
       " '41%84%',\n",
       " '60%94%',\n",
       " '89%75%']"
      ]
     },
     "execution_count": 100,
     "metadata": {},
     "output_type": "execute_result"
    }
   ],
   "source": [
    "scores_lean = [score.replace(' ','') for score in scores]\n",
    "scores_lean"
   ]
  },
  {
   "cell_type": "code",
   "execution_count": 124,
   "metadata": {
    "scrolled": true
   },
   "outputs": [],
   "source": [
    "scores_split = [score_lean.split('%') for score_lean in scores_lean]"
   ]
  },
  {
   "cell_type": "code",
   "execution_count": 126,
   "metadata": {},
   "outputs": [],
   "source": [
    "split_scores = [score_split.pop() for score_split in scores_split]"
   ]
  },
  {
   "cell_type": "code",
   "execution_count": 127,
   "metadata": {},
   "outputs": [
    {
     "data": {
      "text/plain": [
       "[['32', '50'],\n",
       " ['90', '87'],\n",
       " ['64', '78'],\n",
       " ['78', '56'],\n",
       " ['46', '74'],\n",
       " ['47', '55'],\n",
       " ['58', '40'],\n",
       " ['94', '66'],\n",
       " ['89', '70'],\n",
       " ['14', '60'],\n",
       " ['20', '78'],\n",
       " ['91', '76'],\n",
       " ['38', '37'],\n",
       " ['91', '87'],\n",
       " ['99', '90'],\n",
       " ['52', '76'],\n",
       " ['48', '92'],\n",
       " ['55', '79'],\n",
       " ['94', '75'],\n",
       " ['75', '84'],\n",
       " ['33', '38'],\n",
       " ['82', '49'],\n",
       " ['71', '81'],\n",
       " ['13', '25'],\n",
       " ['86', '71'],\n",
       " ['98', '90'],\n",
       " ['69', '50'],\n",
       " ['14', '23'],\n",
       " ['39', '93'],\n",
       " ['41', '84'],\n",
       " ['60', '94'],\n",
       " ['89', '75']]"
      ]
     },
     "execution_count": 127,
     "metadata": {},
     "output_type": "execute_result"
    }
   ],
   "source": [
    "scores_split"
   ]
  },
  {
   "cell_type": "code",
   "execution_count": 136,
   "metadata": {},
   "outputs": [],
   "source": [
    "critics_score = [score[0] for score in scores_split]\n",
    "audience_score = [score[1] for score in scores_split]"
   ]
  },
  {
   "cell_type": "code",
   "execution_count": 128,
   "metadata": {},
   "outputs": [],
   "source": [
    "def get_all_titles(browser):\n",
    "    \"\"\"Return a movie's title\"\"\"\n",
    "    sel = \"div.mb-movies div.mb-movie h3.movieTitle\"\n",
    "    title = browser.find_elements_by_css_selector(sel)\n",
    "    return title\n",
    "\n",
    "all_titles = get_all_titles(browser)"
   ]
  },
  {
   "cell_type": "code",
   "execution_count": 131,
   "metadata": {},
   "outputs": [
    {
     "data": {
      "text/plain": [
       "[<selenium.webdriver.firefox.webelement.FirefoxWebElement (session=\"2e75cdde-fec9-6744-a759-074d4e712262\", element=\"36f858e0-19e2-2a4b-a572-5252bc4f9b85\")>,\n",
       " <selenium.webdriver.firefox.webelement.FirefoxWebElement (session=\"2e75cdde-fec9-6744-a759-074d4e712262\", element=\"580ab1e5-0bc9-0b4e-b5bd-b36c61297752\")>,\n",
       " <selenium.webdriver.firefox.webelement.FirefoxWebElement (session=\"2e75cdde-fec9-6744-a759-074d4e712262\", element=\"d06258a9-80e1-0a48-905d-312c1a2e579b\")>,\n",
       " <selenium.webdriver.firefox.webelement.FirefoxWebElement (session=\"2e75cdde-fec9-6744-a759-074d4e712262\", element=\"0a052e72-3735-784e-9311-7ef53ac71b1a\")>,\n",
       " <selenium.webdriver.firefox.webelement.FirefoxWebElement (session=\"2e75cdde-fec9-6744-a759-074d4e712262\", element=\"3234d0e1-0d0b-404a-bc20-15eab3bc4696\")>,\n",
       " <selenium.webdriver.firefox.webelement.FirefoxWebElement (session=\"2e75cdde-fec9-6744-a759-074d4e712262\", element=\"6e78756c-e916-a241-8609-97c26b41586d\")>,\n",
       " <selenium.webdriver.firefox.webelement.FirefoxWebElement (session=\"2e75cdde-fec9-6744-a759-074d4e712262\", element=\"c6dada29-b497-d94e-85ae-93bbbafd0b75\")>,\n",
       " <selenium.webdriver.firefox.webelement.FirefoxWebElement (session=\"2e75cdde-fec9-6744-a759-074d4e712262\", element=\"5a98f7a1-8b00-454e-afe4-3e33f5dcd4ea\")>,\n",
       " <selenium.webdriver.firefox.webelement.FirefoxWebElement (session=\"2e75cdde-fec9-6744-a759-074d4e712262\", element=\"8af114ac-f2e8-0943-8c14-3b46ffcc2156\")>,\n",
       " <selenium.webdriver.firefox.webelement.FirefoxWebElement (session=\"2e75cdde-fec9-6744-a759-074d4e712262\", element=\"98314ddf-bbad-a947-b9ab-611564341670\")>,\n",
       " <selenium.webdriver.firefox.webelement.FirefoxWebElement (session=\"2e75cdde-fec9-6744-a759-074d4e712262\", element=\"8cf09e8f-9b7b-5849-b778-426194785c14\")>,\n",
       " <selenium.webdriver.firefox.webelement.FirefoxWebElement (session=\"2e75cdde-fec9-6744-a759-074d4e712262\", element=\"9ee9ded0-a938-a746-9a69-6eac5d5afa2b\")>,\n",
       " <selenium.webdriver.firefox.webelement.FirefoxWebElement (session=\"2e75cdde-fec9-6744-a759-074d4e712262\", element=\"8694ca83-05bc-cb45-82c6-a99a9943e912\")>,\n",
       " <selenium.webdriver.firefox.webelement.FirefoxWebElement (session=\"2e75cdde-fec9-6744-a759-074d4e712262\", element=\"89b6ba92-d9fa-2049-8b59-2308cd58a412\")>,\n",
       " <selenium.webdriver.firefox.webelement.FirefoxWebElement (session=\"2e75cdde-fec9-6744-a759-074d4e712262\", element=\"d0dc9201-908b-0a4d-8010-0f7064b7c9b3\")>,\n",
       " <selenium.webdriver.firefox.webelement.FirefoxWebElement (session=\"2e75cdde-fec9-6744-a759-074d4e712262\", element=\"a3c062b2-05fe-7141-a8ba-6b355b2e186a\")>,\n",
       " <selenium.webdriver.firefox.webelement.FirefoxWebElement (session=\"2e75cdde-fec9-6744-a759-074d4e712262\", element=\"b78e2d8e-2434-f148-8cf2-a7c42f16b07e\")>,\n",
       " <selenium.webdriver.firefox.webelement.FirefoxWebElement (session=\"2e75cdde-fec9-6744-a759-074d4e712262\", element=\"1252d48a-4f30-af4c-8254-5f3e4d474eee\")>,\n",
       " <selenium.webdriver.firefox.webelement.FirefoxWebElement (session=\"2e75cdde-fec9-6744-a759-074d4e712262\", element=\"78cd1310-e2a7-8f40-9844-3222c47f8994\")>,\n",
       " <selenium.webdriver.firefox.webelement.FirefoxWebElement (session=\"2e75cdde-fec9-6744-a759-074d4e712262\", element=\"da436435-e55e-2e47-853b-4add1371ca2f\")>,\n",
       " <selenium.webdriver.firefox.webelement.FirefoxWebElement (session=\"2e75cdde-fec9-6744-a759-074d4e712262\", element=\"9d253f0a-c8da-1a43-a71a-459e10c96b72\")>,\n",
       " <selenium.webdriver.firefox.webelement.FirefoxWebElement (session=\"2e75cdde-fec9-6744-a759-074d4e712262\", element=\"4ae3107c-eb63-db42-93d0-73e1d73f97e8\")>,\n",
       " <selenium.webdriver.firefox.webelement.FirefoxWebElement (session=\"2e75cdde-fec9-6744-a759-074d4e712262\", element=\"0a45c772-9fec-9941-b2a5-3321192e3376\")>,\n",
       " <selenium.webdriver.firefox.webelement.FirefoxWebElement (session=\"2e75cdde-fec9-6744-a759-074d4e712262\", element=\"e8a0c452-3f83-bc4d-a750-c40a661eab25\")>,\n",
       " <selenium.webdriver.firefox.webelement.FirefoxWebElement (session=\"2e75cdde-fec9-6744-a759-074d4e712262\", element=\"27abab4a-0796-5b4c-9fe2-791bd9ec835e\")>,\n",
       " <selenium.webdriver.firefox.webelement.FirefoxWebElement (session=\"2e75cdde-fec9-6744-a759-074d4e712262\", element=\"32bed5b5-bc69-3b41-9fd5-3de69c7eccc4\")>,\n",
       " <selenium.webdriver.firefox.webelement.FirefoxWebElement (session=\"2e75cdde-fec9-6744-a759-074d4e712262\", element=\"7753c4a9-f112-3743-8a57-00821c3098e3\")>,\n",
       " <selenium.webdriver.firefox.webelement.FirefoxWebElement (session=\"2e75cdde-fec9-6744-a759-074d4e712262\", element=\"1778f6dd-b083-6647-a999-ad5aaf5eef7b\")>,\n",
       " <selenium.webdriver.firefox.webelement.FirefoxWebElement (session=\"2e75cdde-fec9-6744-a759-074d4e712262\", element=\"9ad50e0a-2433-da45-b766-f7b6f811aa34\")>,\n",
       " <selenium.webdriver.firefox.webelement.FirefoxWebElement (session=\"2e75cdde-fec9-6744-a759-074d4e712262\", element=\"a5f1cc16-e5de-694c-9c0e-9f80202100cf\")>,\n",
       " <selenium.webdriver.firefox.webelement.FirefoxWebElement (session=\"2e75cdde-fec9-6744-a759-074d4e712262\", element=\"bb950c71-ca6d-e04d-9619-02e452318549\")>,\n",
       " <selenium.webdriver.firefox.webelement.FirefoxWebElement (session=\"2e75cdde-fec9-6744-a759-074d4e712262\", element=\"da41820b-5456-2f43-86a5-af007ede1459\")>]"
      ]
     },
     "execution_count": 131,
     "metadata": {},
     "output_type": "execute_result"
    }
   ],
   "source": [
    "all_titles"
   ]
  },
  {
   "cell_type": "code",
   "execution_count": 132,
   "metadata": {},
   "outputs": [],
   "source": [
    "titles=[]\n",
    "for movie in all_titles:\n",
    "    one_title = movie.text\n",
    "    titles.append(one_title)"
   ]
  },
  {
   "cell_type": "code",
   "execution_count": 75,
   "metadata": {
    "scrolled": true
   },
   "outputs": [
    {
     "data": {
      "text/plain": [
       "['The Curse Of La Llorona',\n",
       " 'Shazam!',\n",
       " 'Breakthrough',\n",
       " 'Captain Marvel',\n",
       " 'Little',\n",
       " 'Dumbo',\n",
       " 'Pet Sematary',\n",
       " 'Us',\n",
       " 'Missing Link',\n",
       " 'Hellboy',\n",
       " 'After',\n",
       " 'Disneynature: Penguins',\n",
       " 'Kalank',\n",
       " 'How To Train Your Dragon: The Hidden World',\n",
       " 'Amazing Grace',\n",
       " 'The Best Of Enemies',\n",
       " 'Unplanned',\n",
       " 'Five Feet Apart',\n",
       " 'The Mustang',\n",
       " 'Hotel Mumbai',\n",
       " 'Wonder Park',\n",
       " 'High Life',\n",
       " 'Teen Spirit',\n",
       " \"Tyler Perry's A Madea Family Funeral\",\n",
       " 'The LEGO Movie 2: The Second Part',\n",
       " 'Apollo 11',\n",
       " \"Isn't It Romantic\",\n",
       " 'No Manches Frida 2',\n",
       " 'The Chaperone',\n",
       " 'The Upside',\n",
       " 'Alita: Battle Angel',\n",
       " 'Wild Nights With Emily']"
      ]
     },
     "execution_count": 75,
     "metadata": {},
     "output_type": "execute_result"
    }
   ],
   "source": [
    "titles"
   ]
  },
  {
   "cell_type": "code",
   "execution_count": null,
   "metadata": {},
   "outputs": [],
   "source": [
    "import pandas as pd"
   ]
  },
  {
   "cell_type": "code",
   "execution_count": 138,
   "metadata": {},
   "outputs": [],
   "source": [
    "dictionary = {'title':titles, 'critics_score':critics_score, 'audience_score':audience_score}"
   ]
  },
  {
   "cell_type": "code",
   "execution_count": 141,
   "metadata": {},
   "outputs": [
    {
     "data": {
      "text/html": [
       "<div>\n",
       "<style scoped>\n",
       "    .dataframe tbody tr th:only-of-type {\n",
       "        vertical-align: middle;\n",
       "    }\n",
       "\n",
       "    .dataframe tbody tr th {\n",
       "        vertical-align: top;\n",
       "    }\n",
       "\n",
       "    .dataframe thead th {\n",
       "        text-align: right;\n",
       "    }\n",
       "</style>\n",
       "<table border=\"1\" class=\"dataframe\">\n",
       "  <thead>\n",
       "    <tr style=\"text-align: right;\">\n",
       "      <th></th>\n",
       "      <th>title</th>\n",
       "      <th>critics_score</th>\n",
       "      <th>audience_score</th>\n",
       "    </tr>\n",
       "  </thead>\n",
       "  <tbody>\n",
       "    <tr>\n",
       "      <th>0</th>\n",
       "      <td>The Curse Of La Llorona</td>\n",
       "      <td>32</td>\n",
       "      <td>50</td>\n",
       "    </tr>\n",
       "    <tr>\n",
       "      <th>1</th>\n",
       "      <td>Shazam!</td>\n",
       "      <td>90</td>\n",
       "      <td>87</td>\n",
       "    </tr>\n",
       "    <tr>\n",
       "      <th>2</th>\n",
       "      <td>Breakthrough</td>\n",
       "      <td>64</td>\n",
       "      <td>78</td>\n",
       "    </tr>\n",
       "    <tr>\n",
       "      <th>3</th>\n",
       "      <td>Captain Marvel</td>\n",
       "      <td>78</td>\n",
       "      <td>56</td>\n",
       "    </tr>\n",
       "    <tr>\n",
       "      <th>4</th>\n",
       "      <td>Little</td>\n",
       "      <td>46</td>\n",
       "      <td>74</td>\n",
       "    </tr>\n",
       "    <tr>\n",
       "      <th>5</th>\n",
       "      <td>Dumbo</td>\n",
       "      <td>47</td>\n",
       "      <td>55</td>\n",
       "    </tr>\n",
       "    <tr>\n",
       "      <th>6</th>\n",
       "      <td>Pet Sematary</td>\n",
       "      <td>58</td>\n",
       "      <td>40</td>\n",
       "    </tr>\n",
       "    <tr>\n",
       "      <th>7</th>\n",
       "      <td>Us</td>\n",
       "      <td>94</td>\n",
       "      <td>66</td>\n",
       "    </tr>\n",
       "    <tr>\n",
       "      <th>8</th>\n",
       "      <td>Missing Link</td>\n",
       "      <td>89</td>\n",
       "      <td>70</td>\n",
       "    </tr>\n",
       "    <tr>\n",
       "      <th>9</th>\n",
       "      <td>Hellboy</td>\n",
       "      <td>14</td>\n",
       "      <td>60</td>\n",
       "    </tr>\n",
       "    <tr>\n",
       "      <th>10</th>\n",
       "      <td>After</td>\n",
       "      <td>20</td>\n",
       "      <td>78</td>\n",
       "    </tr>\n",
       "    <tr>\n",
       "      <th>11</th>\n",
       "      <td>Disneynature: Penguins</td>\n",
       "      <td>91</td>\n",
       "      <td>76</td>\n",
       "    </tr>\n",
       "    <tr>\n",
       "      <th>12</th>\n",
       "      <td>Kalank</td>\n",
       "      <td>38</td>\n",
       "      <td>37</td>\n",
       "    </tr>\n",
       "    <tr>\n",
       "      <th>13</th>\n",
       "      <td>How To Train Your Dragon: The Hidden World</td>\n",
       "      <td>91</td>\n",
       "      <td>87</td>\n",
       "    </tr>\n",
       "    <tr>\n",
       "      <th>14</th>\n",
       "      <td>Amazing Grace</td>\n",
       "      <td>99</td>\n",
       "      <td>90</td>\n",
       "    </tr>\n",
       "    <tr>\n",
       "      <th>15</th>\n",
       "      <td>The Best Of Enemies</td>\n",
       "      <td>52</td>\n",
       "      <td>76</td>\n",
       "    </tr>\n",
       "    <tr>\n",
       "      <th>16</th>\n",
       "      <td>Unplanned</td>\n",
       "      <td>48</td>\n",
       "      <td>92</td>\n",
       "    </tr>\n",
       "    <tr>\n",
       "      <th>17</th>\n",
       "      <td>Five Feet Apart</td>\n",
       "      <td>55</td>\n",
       "      <td>79</td>\n",
       "    </tr>\n",
       "    <tr>\n",
       "      <th>18</th>\n",
       "      <td>The Mustang</td>\n",
       "      <td>94</td>\n",
       "      <td>75</td>\n",
       "    </tr>\n",
       "    <tr>\n",
       "      <th>19</th>\n",
       "      <td>Hotel Mumbai</td>\n",
       "      <td>75</td>\n",
       "      <td>84</td>\n",
       "    </tr>\n",
       "    <tr>\n",
       "      <th>20</th>\n",
       "      <td>Wonder Park</td>\n",
       "      <td>33</td>\n",
       "      <td>38</td>\n",
       "    </tr>\n",
       "    <tr>\n",
       "      <th>21</th>\n",
       "      <td>High Life</td>\n",
       "      <td>82</td>\n",
       "      <td>49</td>\n",
       "    </tr>\n",
       "    <tr>\n",
       "      <th>22</th>\n",
       "      <td>Teen Spirit</td>\n",
       "      <td>71</td>\n",
       "      <td>81</td>\n",
       "    </tr>\n",
       "    <tr>\n",
       "      <th>23</th>\n",
       "      <td>Tyler Perry's A Madea Family Funeral</td>\n",
       "      <td>13</td>\n",
       "      <td>25</td>\n",
       "    </tr>\n",
       "    <tr>\n",
       "      <th>24</th>\n",
       "      <td>The LEGO Movie 2: The Second Part</td>\n",
       "      <td>86</td>\n",
       "      <td>71</td>\n",
       "    </tr>\n",
       "    <tr>\n",
       "      <th>25</th>\n",
       "      <td>Apollo 11</td>\n",
       "      <td>98</td>\n",
       "      <td>90</td>\n",
       "    </tr>\n",
       "    <tr>\n",
       "      <th>26</th>\n",
       "      <td>Isn't It Romantic</td>\n",
       "      <td>69</td>\n",
       "      <td>50</td>\n",
       "    </tr>\n",
       "    <tr>\n",
       "      <th>27</th>\n",
       "      <td>No Manches Frida 2</td>\n",
       "      <td>14</td>\n",
       "      <td>23</td>\n",
       "    </tr>\n",
       "    <tr>\n",
       "      <th>28</th>\n",
       "      <td>The Chaperone</td>\n",
       "      <td>39</td>\n",
       "      <td>93</td>\n",
       "    </tr>\n",
       "    <tr>\n",
       "      <th>29</th>\n",
       "      <td>The Upside</td>\n",
       "      <td>41</td>\n",
       "      <td>84</td>\n",
       "    </tr>\n",
       "    <tr>\n",
       "      <th>30</th>\n",
       "      <td>Alita: Battle Angel</td>\n",
       "      <td>60</td>\n",
       "      <td>94</td>\n",
       "    </tr>\n",
       "    <tr>\n",
       "      <th>31</th>\n",
       "      <td>Wild Nights With Emily</td>\n",
       "      <td>89</td>\n",
       "      <td>75</td>\n",
       "    </tr>\n",
       "  </tbody>\n",
       "</table>\n",
       "</div>"
      ],
      "text/plain": [
       "                                         title critics_score audience_score\n",
       "0                      The Curse Of La Llorona            32             50\n",
       "1                                      Shazam!            90             87\n",
       "2                                 Breakthrough            64             78\n",
       "3                               Captain Marvel            78             56\n",
       "4                                       Little            46             74\n",
       "5                                        Dumbo            47             55\n",
       "6                                 Pet Sematary            58             40\n",
       "7                                           Us            94             66\n",
       "8                                 Missing Link            89             70\n",
       "9                                      Hellboy            14             60\n",
       "10                                       After            20             78\n",
       "11                      Disneynature: Penguins            91             76\n",
       "12                                      Kalank            38             37\n",
       "13  How To Train Your Dragon: The Hidden World            91             87\n",
       "14                               Amazing Grace            99             90\n",
       "15                         The Best Of Enemies            52             76\n",
       "16                                   Unplanned            48             92\n",
       "17                             Five Feet Apart            55             79\n",
       "18                                 The Mustang            94             75\n",
       "19                                Hotel Mumbai            75             84\n",
       "20                                 Wonder Park            33             38\n",
       "21                                   High Life            82             49\n",
       "22                                 Teen Spirit            71             81\n",
       "23        Tyler Perry's A Madea Family Funeral            13             25\n",
       "24           The LEGO Movie 2: The Second Part            86             71\n",
       "25                                   Apollo 11            98             90\n",
       "26                           Isn't It Romantic            69             50\n",
       "27                          No Manches Frida 2            14             23\n",
       "28                               The Chaperone            39             93\n",
       "29                                  The Upside            41             84\n",
       "30                         Alita: Battle Angel            60             94\n",
       "31                      Wild Nights With Emily            89             75"
      ]
     },
     "execution_count": 141,
     "metadata": {},
     "output_type": "execute_result"
    }
   ],
   "source": [
    "rt_df = pd.DataFrame(dictionary)\n",
    "rt_df"
   ]
  }
 ],
 "metadata": {
  "kernelspec": {
   "display_name": "Python 3",
   "language": "python",
   "name": "python3"
  },
  "language_info": {
   "codemirror_mode": {
    "name": "ipython",
    "version": 3
   },
   "file_extension": ".py",
   "mimetype": "text/x-python",
   "name": "python",
   "nbconvert_exporter": "python",
   "pygments_lexer": "ipython3",
   "version": "3.7.1"
  }
 },
 "nbformat": 4,
 "nbformat_minor": 2
}
