{
 "cells": [
  {
   "cell_type": "code",
   "execution_count": 27,
   "metadata": {},
   "outputs": [],
   "source": [
    "%load_ext autoreload\n",
    "%autoreload 2"
   ]
  },
  {
   "cell_type": "code",
   "execution_count": 104,
   "metadata": {},
   "outputs": [],
   "source": [
    "import requests\n",
    "import random\n",
    "import time\n",
    "from selenium.webdriver import Chrome\n",
    "from fan_scrape_functions import (\n",
    "    get_theater_title\n",
    "    ,get_movie_titles\n",
    "    ,get_theater_ids)"
   ]
  },
  {
   "cell_type": "code",
   "execution_count": 5,
   "metadata": {},
   "outputs": [],
   "source": [
    "browser = Chrome()\n",
    "url = \"https://www.fandango.com/seattle_wa_movietimes\"\n",
    "browser.get(url)"
   ]
  },
  {
   "cell_type": "code",
   "execution_count": 51,
   "metadata": {},
   "outputs": [],
   "source": [
    "theaters = get_theater_ids(browser)"
   ]
  },
  {
   "cell_type": "code",
   "execution_count": 105,
   "metadata": {},
   "outputs": [
    {
     "data": {
      "text/plain": [
       "{'REGAL MERIDIAN & 4DX': [],\n",
       " 'AMC PACIFIC PLACE 11': [{'title': 'AVENGERS: ENDGAME (2019)', 'times': []},\n",
       "  {'title': 'THE CURSE OF LA LLORONA',\n",
       "   'times': ['10:15a',\n",
       "    '12:00p',\n",
       "    '4:20p',\n",
       "    '6:30p',\n",
       "    '9:10p',\n",
       "    '10:20p',\n",
       "    '2:00p',\n",
       "    '2:00p',\n",
       "    '5:00p',\n",
       "    '9:45a',\n",
       "    '10:45a',\n",
       "    '1:15p',\n",
       "    '7:10p',\n",
       "    '7:40p',\n",
       "    '8:20p',\n",
       "    '9:50p',\n",
       "    '10:40p']},\n",
       "  {'title': 'BREAKTHROUGH (2019)',\n",
       "   'times': ['10:50a', '2:50p', '4:05p', '6:45p']},\n",
       "  {'title': 'PENGUINS (2019)', 'times': ['12:30p', '3:30p', '7:35p', '9:30p']},\n",
       "  {'title': 'LITTLE (2019)', 'times': ['10:55a', '2:05p', '5:20p']},\n",
       "  {'title': 'SHAZAM!',\n",
       "   'times': ['11:00a', '1:45p', '5:10p', '7:05p', '10:35p']},\n",
       "  {'title': 'DUMBO (2019)',\n",
       "   'times': ['10:05a', '1:05p', '4:10p', '7:25p', '10:30p']},\n",
       "  {'title': 'US (2019)', 'times': ['10:25a', '1:10p', '4:00p', '7:45p']}],\n",
       " 'SIFF CINEMA EGYPTIAN': [{'title': 'HAIL SATAN?', 'times': []}],\n",
       " 'CINERAMA': [{'title': 'AVENGERS: ENDGAME (2019)', 'times': []}],\n",
       " 'BIG PICTURE SEATTLE': [{'title': 'US (2019)', 'times': []}],\n",
       " 'CENTRAL CINEMA': [{'title': 'STARGATE', 'times': []},\n",
       "  {'title': 'BACK TO THE FUTURE PART II', 'times': ['4:00p', '9:30p']}],\n",
       " 'PACIFIC SCIENCE CENTER IMAX THEATERS': [{'title': 'AVENGERS: ENDGAME (2019)',\n",
       "   'times': []},\n",
       "  {'title': 'DREAM BIG: ENGINEERING OUR WORLD 3D',\n",
       "   'times': ['3:30p', '10:30p', '11:45a', '7:00p']},\n",
       "  {'title': 'FLIGHT OF THE BUTTERFLIES 3D', 'times': ['11:30a']},\n",
       "  {'title': 'SUPERPOWER DOGS 3D', 'times': ['10:15a']},\n",
       "  {'title': 'TURTLE ODYSSEY', 'times': ['10:30a']},\n",
       "  {'title': 'VOLCANOES', 'times': ['12:45p', '3:15p']}],\n",
       " 'SIFF FILM CENTER': [{'title': 'THE RUSSIAN FIVE', 'times': []}],\n",
       " 'NORTHWEST FILM FORUM': [{'title': 'HOTEL BY THE RIVER', 'times': []}],\n",
       " 'SIFF CINEMA UPTOWN': [{'title': 'AMAZING GRACE (2019)', 'times': []},\n",
       "  {'title': 'HIGH LIFE (2019)', 'times': ['4:15p', '6:45p', '9:10p']},\n",
       "  {'title': 'RAFIKI (2019)', 'times': ['4:00p', '6:30p', '9:00p']}]}"
      ]
     },
     "execution_count": 105,
     "metadata": {},
     "output_type": "execute_result"
    }
   ],
   "source": [
    "get_movie_titles(browser,theaters)"
   ]
  },
  {
   "cell_type": "code",
   "execution_count": 17,
   "metadata": {},
   "outputs": [
    {
     "name": "stdout",
     "output_type": "stream",
     "text": [
      "comic_img.png          email_settings.png     ui_vs_ux.png\n",
      "comic_img1.png         reinvent_the_wheel.png\n"
     ]
    }
   ],
   "source": [
    "!ls *.png"
   ]
  },
  {
   "cell_type": "code",
   "execution_count": 18,
   "metadata": {},
   "outputs": [],
   "source": []
  },
  {
   "cell_type": "code",
   "execution_count": null,
   "metadata": {},
   "outputs": [],
   "source": []
  },
  {
   "cell_type": "code",
   "execution_count": null,
   "metadata": {},
   "outputs": [],
   "source": []
  },
  {
   "cell_type": "markdown",
   "metadata": {},
   "source": [
    "<img src=\"comic_img.png\" />"
   ]
  },
  {
   "cell_type": "markdown",
   "metadata": {},
   "source": [
    "![comic image](comic_img1.png)"
   ]
  },
  {
   "cell_type": "code",
   "execution_count": null,
   "metadata": {},
   "outputs": [],
   "source": []
  }
 ],
 "metadata": {
  "kernelspec": {
   "display_name": "Python 3",
   "language": "python",
   "name": "python3"
  },
  "language_info": {
   "codemirror_mode": {
    "name": "ipython",
    "version": 3
   },
   "file_extension": ".py",
   "mimetype": "text/x-python",
   "name": "python",
   "nbconvert_exporter": "python",
   "pygments_lexer": "ipython3",
   "version": "3.7.1"
  }
 },
 "nbformat": 4,
 "nbformat_minor": 2
}
